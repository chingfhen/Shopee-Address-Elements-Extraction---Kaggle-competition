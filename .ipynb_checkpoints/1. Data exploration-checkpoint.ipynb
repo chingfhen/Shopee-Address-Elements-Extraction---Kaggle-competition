{
 "cells": [
  {
   "cell_type": "markdown",
   "id": "789c45d3",
   "metadata": {},
   "source": [
    "# ABOUT\n",
    "- this notebook:\n",
    "    - explores the shopee addres elements extraction dataset\n",
    "- insights:\n",
    "    - given an address, \"setu siung 119 rt 5 1 13880 cipayung\" we need to predict\n",
    "        1. Point of interest \n",
    "        2. street name e.g siung\n",
    "        \n",
    "    - the solutions can be:\n",
    "        1. a span/substring of the address\n",
    "        2. empty i.e does not exist\n",
    "        3. a complete version e.g xl axi pt tbk -> xl axiata pt tbk\n"
   ]
  },
  {
   "cell_type": "markdown",
   "id": "f1d5744e",
   "metadata": {},
   "source": [
    "## Large dataset\n",
    "- the dataseet is quite large with 300000 rows"
   ]
  },
  {
   "cell_type": "code",
   "execution_count": 1,
   "id": "7d2801e9",
   "metadata": {},
   "outputs": [],
   "source": [
    "import pandas as pd"
   ]
  },
  {
   "cell_type": "code",
   "execution_count": 2,
   "id": "51c623d9",
   "metadata": {},
   "outputs": [
    {
     "data": {
      "text/html": [
       "<div>\n",
       "<style scoped>\n",
       "    .dataframe tbody tr th:only-of-type {\n",
       "        vertical-align: middle;\n",
       "    }\n",
       "\n",
       "    .dataframe tbody tr th {\n",
       "        vertical-align: top;\n",
       "    }\n",
       "\n",
       "    .dataframe thead th {\n",
       "        text-align: right;\n",
       "    }\n",
       "</style>\n",
       "<table border=\"1\" class=\"dataframe\">\n",
       "  <thead>\n",
       "    <tr style=\"text-align: right;\">\n",
       "      <th></th>\n",
       "      <th>raw_address</th>\n",
       "      <th>POI/street</th>\n",
       "    </tr>\n",
       "    <tr>\n",
       "      <th>id</th>\n",
       "      <th></th>\n",
       "      <th></th>\n",
       "    </tr>\n",
       "  </thead>\n",
       "  <tbody>\n",
       "    <tr>\n",
       "      <th>0</th>\n",
       "      <td>jl kapuk timur delta sili iii lippo cika 11 a ...</td>\n",
       "      <td>/jl kapuk timur delta sili iii lippo cika</td>\n",
       "    </tr>\n",
       "    <tr>\n",
       "      <th>1</th>\n",
       "      <td>aye, jati sampurna</td>\n",
       "      <td>/</td>\n",
       "    </tr>\n",
       "    <tr>\n",
       "      <th>2</th>\n",
       "      <td>setu siung 119 rt 5 1 13880 cipayung</td>\n",
       "      <td>/siung</td>\n",
       "    </tr>\n",
       "    <tr>\n",
       "      <th>3</th>\n",
       "      <td>toko dita, kertosono</td>\n",
       "      <td>toko dita/</td>\n",
       "    </tr>\n",
       "    <tr>\n",
       "      <th>4</th>\n",
       "      <td>jl. orde baru</td>\n",
       "      <td>/jl. orde baru</td>\n",
       "    </tr>\n",
       "  </tbody>\n",
       "</table>\n",
       "</div>"
      ],
      "text/plain": [
       "                                          raw_address  \\\n",
       "id                                                      \n",
       "0   jl kapuk timur delta sili iii lippo cika 11 a ...   \n",
       "1                                  aye, jati sampurna   \n",
       "2                setu siung 119 rt 5 1 13880 cipayung   \n",
       "3                                toko dita, kertosono   \n",
       "4                                       jl. orde baru   \n",
       "\n",
       "                                   POI/street  \n",
       "id                                             \n",
       "0   /jl kapuk timur delta sili iii lippo cika  \n",
       "1                                           /  \n",
       "2                                      /siung  \n",
       "3                                  toko dita/  \n",
       "4                              /jl. orde baru  "
      ]
     },
     "execution_count": 2,
     "metadata": {},
     "output_type": "execute_result"
    }
   ],
   "source": [
    "df = pd.read_csv(r\"C:\\Users\\tanch\\Documents\\Coding Competitions\\Shopee\\Comp 2 address elements extraction\\datasets\\train.csv\\train.csv\")\n",
    "df = df.set_index('id')\n",
    "df.head()"
   ]
  },
  {
   "cell_type": "code",
   "execution_count": 3,
   "id": "fe199876",
   "metadata": {},
   "outputs": [],
   "source": [
    "# split 'POI/street' column into 2 individual columns\n",
    "df[['POI', 'street']] = df['POI/street'].str.split('/', expand=True)"
   ]
  },
  {
   "cell_type": "code",
   "execution_count": 4,
   "id": "f1339a11",
   "metadata": {
    "scrolled": true
   },
   "outputs": [
    {
     "name": "stdout",
     "output_type": "stream",
     "text": [
      "Number of rows:  300000\n"
     ]
    }
   ],
   "source": [
    "print(\"Number of rows: \", len(df))"
   ]
  },
  {
   "cell_type": "markdown",
   "id": "a15a73b5",
   "metadata": {},
   "source": [
    "## Empty predictions\n",
    "- quite a number of raw_addresses do not have POI or address"
   ]
  },
  {
   "cell_type": "code",
   "execution_count": 5,
   "id": "eb45bafb",
   "metadata": {},
   "outputs": [
    {
     "name": "stdout",
     "output_type": "stream",
     "text": [
      "Number of empty POI:  178509\n",
      "Number of NON empty POI:  121491\n"
     ]
    }
   ],
   "source": [
    "print(\"Number of empty POI: \",sum(df['POI']==''))\n",
    "print(\"Number of NON empty POI: \",sum(df['POI']!=''))"
   ]
  },
  {
   "cell_type": "code",
   "execution_count": 6,
   "id": "620a41e2",
   "metadata": {},
   "outputs": [
    {
     "name": "stdout",
     "output_type": "stream",
     "text": [
      "Number of empty street:  70143\n",
      "Number of NON empty street:  229857\n"
     ]
    }
   ],
   "source": [
    "print(\"Number of empty street: \",sum(df['street']==''))\n",
    "print(\"Number of NON empty street: \",sum(df['street']!=''))"
   ]
  },
  {
   "cell_type": "code",
   "execution_count": 7,
   "id": "f4d326aa",
   "metadata": {},
   "outputs": [
    {
     "data": {
      "text/html": [
       "<div>\n",
       "<style scoped>\n",
       "    .dataframe tbody tr th:only-of-type {\n",
       "        vertical-align: middle;\n",
       "    }\n",
       "\n",
       "    .dataframe tbody tr th {\n",
       "        vertical-align: top;\n",
       "    }\n",
       "\n",
       "    .dataframe thead th {\n",
       "        text-align: right;\n",
       "    }\n",
       "</style>\n",
       "<table border=\"1\" class=\"dataframe\">\n",
       "  <thead>\n",
       "    <tr style=\"text-align: right;\">\n",
       "      <th></th>\n",
       "      <th>raw_address</th>\n",
       "      <th>POI/street</th>\n",
       "      <th>POI</th>\n",
       "      <th>street</th>\n",
       "    </tr>\n",
       "    <tr>\n",
       "      <th>id</th>\n",
       "      <th></th>\n",
       "      <th></th>\n",
       "      <th></th>\n",
       "      <th></th>\n",
       "    </tr>\n",
       "  </thead>\n",
       "  <tbody>\n",
       "    <tr>\n",
       "      <th>2759</th>\n",
       "      <td>pondok kacang timur jl prima 98a rt 2 10 15226</td>\n",
       "      <td>/jl prima</td>\n",
       "      <td></td>\n",
       "      <td>jl prima</td>\n",
       "    </tr>\n",
       "    <tr>\n",
       "      <th>149506</th>\n",
       "      <td>geb sari, 79 bambu apus rt 2 rw 5 cipayung</td>\n",
       "      <td>/geb sari</td>\n",
       "      <td></td>\n",
       "      <td>geb sari</td>\n",
       "    </tr>\n",
       "    <tr>\n",
       "      <th>60862</th>\n",
       "      <td>baba sari 1 169</td>\n",
       "      <td>/baba sari 1</td>\n",
       "      <td></td>\n",
       "      <td>baba sari 1</td>\n",
       "    </tr>\n",
       "  </tbody>\n",
       "</table>\n",
       "</div>"
      ],
      "text/plain": [
       "                                           raw_address    POI/street POI  \\\n",
       "id                                                                         \n",
       "2759    pondok kacang timur jl prima 98a rt 2 10 15226     /jl prima       \n",
       "149506      geb sari, 79 bambu apus rt 2 rw 5 cipayung     /geb sari       \n",
       "60862                                  baba sari 1 169  /baba sari 1       \n",
       "\n",
       "             street  \n",
       "id                   \n",
       "2759       jl prima  \n",
       "149506     geb sari  \n",
       "60862   baba sari 1  "
      ]
     },
     "execution_count": 7,
     "metadata": {},
     "output_type": "execute_result"
    }
   ],
   "source": [
    "# no POI exists in these examples\n",
    "df[df['street']!=''].sample(3)"
   ]
  },
  {
   "cell_type": "markdown",
   "id": "52109cec",
   "metadata": {},
   "source": [
    "## normal rows\n",
    "- the rest are normal rows where the answer is a substring of the raw_address\n",
    "    - e.g pro evo, gatot subr tanjung pinang timur\t<---------  pro evo"
   ]
  },
  {
   "cell_type": "code",
   "execution_count": 15,
   "id": "90f237d6",
   "metadata": {},
   "outputs": [],
   "source": [
    "poi_is_subtring = df.apply(lambda row: row['POI'] in row['raw_address'], axis=1)\n",
    "street_is_subtring = df.apply(lambda row: row['street'] in row['raw_address'], axis=1)"
   ]
  },
  {
   "cell_type": "code",
   "execution_count": 16,
   "id": "cd9305fd",
   "metadata": {},
   "outputs": [
    {
     "name": "stdout",
     "output_type": "stream",
     "text": [
      "Number of normal POI rows:  253860\n",
      "Number of normal street rows:  282613\n"
     ]
    }
   ],
   "source": [
    "print(\"Number of normal POI rows: \", sum(poi_is_subtring))\n",
    "print(\"Number of normal street rows: \", sum(street_is_subtring))"
   ]
  },
  {
   "cell_type": "markdown",
   "id": "1e7f75ee",
   "metadata": {},
   "source": [
    "- the following shows normal rows"
   ]
  },
  {
   "cell_type": "code",
   "execution_count": 17,
   "id": "49bc3b4d",
   "metadata": {
    "scrolled": true
   },
   "outputs": [
    {
     "name": "stderr",
     "output_type": "stream",
     "text": [
      "<ipython-input-17-91982ee40b0c>:1: UserWarning: Boolean Series key will be reindexed to match DataFrame index.\n",
      "  df.loc[df['POI']!=''][poi_is_subtring][[\"raw_address\",\"POI\"]].sample(5)\n"
     ]
    },
    {
     "data": {
      "text/html": [
       "<div>\n",
       "<style scoped>\n",
       "    .dataframe tbody tr th:only-of-type {\n",
       "        vertical-align: middle;\n",
       "    }\n",
       "\n",
       "    .dataframe tbody tr th {\n",
       "        vertical-align: top;\n",
       "    }\n",
       "\n",
       "    .dataframe thead th {\n",
       "        text-align: right;\n",
       "    }\n",
       "</style>\n",
       "<table border=\"1\" class=\"dataframe\">\n",
       "  <thead>\n",
       "    <tr style=\"text-align: right;\">\n",
       "      <th></th>\n",
       "      <th>raw_address</th>\n",
       "      <th>POI</th>\n",
       "    </tr>\n",
       "    <tr>\n",
       "      <th>id</th>\n",
       "      <th></th>\n",
       "      <th></th>\n",
       "    </tr>\n",
       "  </thead>\n",
       "  <tbody>\n",
       "    <tr>\n",
       "      <th>181276</th>\n",
       "      <td>toko fagansya, suta, gebang</td>\n",
       "      <td>toko fagansya</td>\n",
       "    </tr>\n",
       "    <tr>\n",
       "      <th>70115</th>\n",
       "      <td>perum griya mukti ciwareng blok b11</td>\n",
       "      <td>perum griya mukti</td>\n",
       "    </tr>\n",
       "    <tr>\n",
       "      <th>174241</th>\n",
       "      <td>warung bakso cak mundik,</td>\n",
       "      <td>warung bakso cak mundik</td>\n",
       "    </tr>\n",
       "    <tr>\n",
       "      <th>20239</th>\n",
       "      <td>the green sukun , bakalankrajan, sukun, malang...</td>\n",
       "      <td>the green</td>\n",
       "    </tr>\n",
       "    <tr>\n",
       "      <th>264482</th>\n",
       "      <td>mts al-gazaliyah, cemp besar</td>\n",
       "      <td>mts al-gazaliyah</td>\n",
       "    </tr>\n",
       "  </tbody>\n",
       "</table>\n",
       "</div>"
      ],
      "text/plain": [
       "                                              raw_address  \\\n",
       "id                                                          \n",
       "181276                        toko fagansya, suta, gebang   \n",
       "70115                 perum griya mukti ciwareng blok b11   \n",
       "174241                           warung bakso cak mundik,   \n",
       "20239   the green sukun , bakalankrajan, sukun, malang...   \n",
       "264482                       mts al-gazaliyah, cemp besar   \n",
       "\n",
       "                            POI  \n",
       "id                               \n",
       "181276            toko fagansya  \n",
       "70115         perum griya mukti  \n",
       "174241  warung bakso cak mundik  \n",
       "20239                 the green  \n",
       "264482         mts al-gazaliyah  "
      ]
     },
     "execution_count": 17,
     "metadata": {},
     "output_type": "execute_result"
    }
   ],
   "source": [
    "df.loc[df['POI']!=''][poi_is_subtring][[\"raw_address\",\"POI\"]].sample(5)"
   ]
  },
  {
   "cell_type": "markdown",
   "id": "4356ded6",
   "metadata": {},
   "source": [
    "## abbreviated rows\n",
    "- some rows have answers that are abbreviated\n",
    "    - e.g ud. hus al-b, pasar gede bage, mekar mulya <------------ ud. husein al-bana"
   ]
  },
  {
   "cell_type": "code",
   "execution_count": 18,
   "id": "b1e601cb",
   "metadata": {},
   "outputs": [
    {
     "name": "stdout",
     "output_type": "stream",
     "text": [
      "Number of abbreviated POI rows:  46140\n",
      "Number of abbreviated street rows:  17387\n"
     ]
    }
   ],
   "source": [
    "print(\"Number of abbreviated POI rows: \", len(df) - sum(poi_is_subtring))\n",
    "print(\"Number of abbreviated street rows: \", len(df) - sum(street_is_subtring))"
   ]
  },
  {
   "cell_type": "markdown",
   "id": "801d1885",
   "metadata": {},
   "source": [
    "- the following shows abbreviated rows"
   ]
  },
  {
   "cell_type": "code",
   "execution_count": 19,
   "id": "3459a597",
   "metadata": {
    "scrolled": false
   },
   "outputs": [
    {
     "name": "stderr",
     "output_type": "stream",
     "text": [
      "<ipython-input-19-6d743e1b18ec>:1: UserWarning: Boolean Series key will be reindexed to match DataFrame index.\n",
      "  df.loc[df['POI']!=''][~poi_is_subtring][[\"raw_address\",\"POI\"]].sample(10)\n"
     ]
    },
    {
     "data": {
      "text/html": [
       "<div>\n",
       "<style scoped>\n",
       "    .dataframe tbody tr th:only-of-type {\n",
       "        vertical-align: middle;\n",
       "    }\n",
       "\n",
       "    .dataframe tbody tr th {\n",
       "        vertical-align: top;\n",
       "    }\n",
       "\n",
       "    .dataframe thead th {\n",
       "        text-align: right;\n",
       "    }\n",
       "</style>\n",
       "<table border=\"1\" class=\"dataframe\">\n",
       "  <thead>\n",
       "    <tr style=\"text-align: right;\">\n",
       "      <th></th>\n",
       "      <th>raw_address</th>\n",
       "      <th>POI</th>\n",
       "    </tr>\n",
       "    <tr>\n",
       "      <th>id</th>\n",
       "      <th></th>\n",
       "      <th></th>\n",
       "    </tr>\n",
       "  </thead>\n",
       "  <tbody>\n",
       "    <tr>\n",
       "      <th>159945</th>\n",
       "      <td>xl axi pt tbk sul agung, no 9</td>\n",
       "      <td>xl axiata pt tbk</td>\n",
       "    </tr>\n",
       "    <tr>\n",
       "      <th>196878</th>\n",
       "      <td>toko furni kutosari</td>\n",
       "      <td>toko furniture</td>\n",
       "    </tr>\n",
       "    <tr>\n",
       "      <th>126639</th>\n",
       "      <td>balungbangjaya taman dram indah batu hul, 1611...</td>\n",
       "      <td>taman dramaga indah</td>\n",
       "    </tr>\n",
       "    <tr>\n",
       "      <th>183179</th>\n",
       "      <td>gobers hos, petite kerobokan kelod kuta utara</td>\n",
       "      <td>gobers hostel</td>\n",
       "    </tr>\n",
       "    <tr>\n",
       "      <th>124112</th>\n",
       "      <td>kediaman mar janggr, tunt brin, tuntang</td>\n",
       "      <td>kediaman marpuk janggrengan</td>\n",
       "    </tr>\n",
       "    <tr>\n",
       "      <th>112974</th>\n",
       "      <td>perumahan tange resid tanah merah sepatan timur</td>\n",
       "      <td>perumahan tangerang residence</td>\n",
       "    </tr>\n",
       "    <tr>\n",
       "      <th>241584</th>\n",
       "      <td>puskesmas mran 1, raya mran,</td>\n",
       "      <td>puskesmas mranggen 1</td>\n",
       "    </tr>\n",
       "    <tr>\n",
       "      <th>20572</th>\n",
       "      <td>komplek bukit padjad pasir impun cikadut cimeu...</td>\n",
       "      <td>komplek bukit padjadjaran</td>\n",
       "    </tr>\n",
       "    <tr>\n",
       "      <th>98893</th>\n",
       "      <td>kan kecam inuman, banjar nantigo inuman</td>\n",
       "      <td>kantor kecamatan inuman</td>\n",
       "    </tr>\n",
       "    <tr>\n",
       "      <th>163684</th>\n",
       "      <td>angkri pak, dr raji,</td>\n",
       "      <td>angkringan pakjek</td>\n",
       "    </tr>\n",
       "  </tbody>\n",
       "</table>\n",
       "</div>"
      ],
      "text/plain": [
       "                                              raw_address  \\\n",
       "id                                                          \n",
       "159945                      xl axi pt tbk sul agung, no 9   \n",
       "196878                                toko furni kutosari   \n",
       "126639  balungbangjaya taman dram indah batu hul, 1611...   \n",
       "183179      gobers hos, petite kerobokan kelod kuta utara   \n",
       "124112            kediaman mar janggr, tunt brin, tuntang   \n",
       "112974    perumahan tange resid tanah merah sepatan timur   \n",
       "241584                       puskesmas mran 1, raya mran,   \n",
       "20572   komplek bukit padjad pasir impun cikadut cimeu...   \n",
       "98893             kan kecam inuman, banjar nantigo inuman   \n",
       "163684                               angkri pak, dr raji,   \n",
       "\n",
       "                                  POI  \n",
       "id                                     \n",
       "159945               xl axiata pt tbk  \n",
       "196878                 toko furniture  \n",
       "126639            taman dramaga indah  \n",
       "183179                  gobers hostel  \n",
       "124112    kediaman marpuk janggrengan  \n",
       "112974  perumahan tangerang residence  \n",
       "241584           puskesmas mranggen 1  \n",
       "20572       komplek bukit padjadjaran  \n",
       "98893         kantor kecamatan inuman  \n",
       "163684              angkringan pakjek  "
      ]
     },
     "execution_count": 19,
     "metadata": {},
     "output_type": "execute_result"
    }
   ],
   "source": [
    "df.loc[df['POI']!=''][~poi_is_subtring][[\"raw_address\",\"POI\"]].sample(10)"
   ]
  },
  {
   "cell_type": "code",
   "execution_count": null,
   "id": "e49543ff",
   "metadata": {},
   "outputs": [],
   "source": []
  },
  {
   "cell_type": "code",
   "execution_count": null,
   "id": "8ee3dbee",
   "metadata": {},
   "outputs": [],
   "source": []
  },
  {
   "cell_type": "code",
   "execution_count": null,
   "id": "0fec0f3b",
   "metadata": {},
   "outputs": [],
   "source": []
  },
  {
   "cell_type": "code",
   "execution_count": null,
   "id": "b898c12f",
   "metadata": {},
   "outputs": [],
   "source": []
  },
  {
   "cell_type": "code",
   "execution_count": null,
   "id": "b96c9209",
   "metadata": {},
   "outputs": [],
   "source": []
  },
  {
   "cell_type": "code",
   "execution_count": 9,
   "id": "d9383686",
   "metadata": {},
   "outputs": [
    {
     "data": {
      "text/html": [
       "<div>\n",
       "<style scoped>\n",
       "    .dataframe tbody tr th:only-of-type {\n",
       "        vertical-align: middle;\n",
       "    }\n",
       "\n",
       "    .dataframe tbody tr th {\n",
       "        vertical-align: top;\n",
       "    }\n",
       "\n",
       "    .dataframe thead th {\n",
       "        text-align: right;\n",
       "    }\n",
       "</style>\n",
       "<table border=\"1\" class=\"dataframe\">\n",
       "  <thead>\n",
       "    <tr style=\"text-align: right;\">\n",
       "      <th></th>\n",
       "      <th>raw_address</th>\n",
       "      <th>POI/street</th>\n",
       "      <th>POI</th>\n",
       "      <th>street</th>\n",
       "    </tr>\n",
       "    <tr>\n",
       "      <th>id</th>\n",
       "      <th></th>\n",
       "      <th></th>\n",
       "      <th></th>\n",
       "      <th></th>\n",
       "    </tr>\n",
       "  </thead>\n",
       "  <tbody>\n",
       "    <tr>\n",
       "      <th>11</th>\n",
       "      <td>yaya atohar,</td>\n",
       "      <td>yayasan atohariyah/</td>\n",
       "      <td>yayasan atohariyah</td>\n",
       "      <td></td>\n",
       "    </tr>\n",
       "    <tr>\n",
       "      <th>641</th>\n",
       "      <td>yayasan gugah nur indon, kel gad, kelapa gadin...</td>\n",
       "      <td>yayasan gugah nurani indonesia/kelapa gad</td>\n",
       "      <td>yayasan gugah nurani indonesia</td>\n",
       "      <td>kelapa gad</td>\n",
       "    </tr>\n",
       "    <tr>\n",
       "      <th>998</th>\n",
       "      <td>yaya pelayanan halieluyah, tebet raya, 30d rw ...</td>\n",
       "      <td>yayasan pelayanan halieluyah/tebet raya</td>\n",
       "      <td>yayasan pelayanan halieluyah</td>\n",
       "      <td>tebet raya</td>\n",
       "    </tr>\n",
       "    <tr>\n",
       "      <th>2333</th>\n",
       "      <td>yayasan al jam, r e martad,</td>\n",
       "      <td>yayasan al jamaah/r e martad</td>\n",
       "      <td>yayasan al jamaah</td>\n",
       "      <td>r e martad</td>\n",
       "    </tr>\n",
       "    <tr>\n",
       "      <th>2443</th>\n",
       "      <td>yayasan bha suci jl. gajah mada ponti, gajah m...</td>\n",
       "      <td>yayasan bhakti suci jl. gajah mada pontianak/g...</td>\n",
       "      <td>yayasan bhakti suci jl. gajah mada pontianak</td>\n",
       "      <td>gajah mada</td>\n",
       "    </tr>\n",
       "    <tr>\n",
       "      <th>...</th>\n",
       "      <td>...</td>\n",
       "      <td>...</td>\n",
       "      <td>...</td>\n",
       "      <td>...</td>\n",
       "    </tr>\n",
       "    <tr>\n",
       "      <th>295244</th>\n",
       "      <td>yaya shiddig, kena indah, jati mulyo lowokwaru</td>\n",
       "      <td>yayasan shiddigiyyah/kena indah</td>\n",
       "      <td>yayasan shiddigiyyah</td>\n",
       "      <td>kena indah</td>\n",
       "    </tr>\n",
       "    <tr>\n",
       "      <th>296536</th>\n",
       "      <td>rengasde, no 21 yayasan al ishaqiyah kalangsari</td>\n",
       "      <td>yayasan al ishaqiyah/rengasde</td>\n",
       "      <td>yayasan al ishaqiyah</td>\n",
       "      <td>rengasde</td>\n",
       "    </tr>\n",
       "    <tr>\n",
       "      <th>296712</th>\n",
       "      <td>yayasan pengalasan songo???j</td>\n",
       "      <td>yayasan pengalasan songo???jombang/</td>\n",
       "      <td>yayasan pengalasan songo???jombang</td>\n",
       "      <td></td>\n",
       "    </tr>\n",
       "    <tr>\n",
       "      <th>298181</th>\n",
       "      <td>yayasan seko kall, puri resid, no b 53</td>\n",
       "      <td>yayasan sekolah kallista/puri resid</td>\n",
       "      <td>yayasan sekolah kallista</td>\n",
       "      <td>puri resid</td>\n",
       "    </tr>\n",
       "    <tr>\n",
       "      <th>299743</th>\n",
       "      <td>yayasan kdm jl rawa dolar no 29 jatiranggon ja...</td>\n",
       "      <td>yayasan kdm/jl rawa dolar</td>\n",
       "      <td>yayasan kdm</td>\n",
       "      <td>jl rawa dolar</td>\n",
       "    </tr>\n",
       "  </tbody>\n",
       "</table>\n",
       "<p>354 rows × 4 columns</p>\n",
       "</div>"
      ],
      "text/plain": [
       "                                              raw_address  \\\n",
       "id                                                          \n",
       "11                                           yaya atohar,   \n",
       "641     yayasan gugah nur indon, kel gad, kelapa gadin...   \n",
       "998     yaya pelayanan halieluyah, tebet raya, 30d rw ...   \n",
       "2333                          yayasan al jam, r e martad,   \n",
       "2443    yayasan bha suci jl. gajah mada ponti, gajah m...   \n",
       "...                                                   ...   \n",
       "295244     yaya shiddig, kena indah, jati mulyo lowokwaru   \n",
       "296536    rengasde, no 21 yayasan al ishaqiyah kalangsari   \n",
       "296712                       yayasan pengalasan songo???j   \n",
       "298181             yayasan seko kall, puri resid, no b 53   \n",
       "299743  yayasan kdm jl rawa dolar no 29 jatiranggon ja...   \n",
       "\n",
       "                                               POI/street  \\\n",
       "id                                                          \n",
       "11                                    yayasan atohariyah/   \n",
       "641             yayasan gugah nurani indonesia/kelapa gad   \n",
       "998               yayasan pelayanan halieluyah/tebet raya   \n",
       "2333                         yayasan al jamaah/r e martad   \n",
       "2443    yayasan bhakti suci jl. gajah mada pontianak/g...   \n",
       "...                                                   ...   \n",
       "295244                    yayasan shiddigiyyah/kena indah   \n",
       "296536                      yayasan al ishaqiyah/rengasde   \n",
       "296712                yayasan pengalasan songo???jombang/   \n",
       "298181                yayasan sekolah kallista/puri resid   \n",
       "299743                          yayasan kdm/jl rawa dolar   \n",
       "\n",
       "                                                 POI         street  \n",
       "id                                                                   \n",
       "11                                yayasan atohariyah                 \n",
       "641                   yayasan gugah nurani indonesia     kelapa gad  \n",
       "998                     yayasan pelayanan halieluyah     tebet raya  \n",
       "2333                               yayasan al jamaah     r e martad  \n",
       "2443    yayasan bhakti suci jl. gajah mada pontianak     gajah mada  \n",
       "...                                              ...            ...  \n",
       "295244                          yayasan shiddigiyyah     kena indah  \n",
       "296536                          yayasan al ishaqiyah       rengasde  \n",
       "296712            yayasan pengalasan songo???jombang                 \n",
       "298181                      yayasan sekolah kallista     puri resid  \n",
       "299743                                   yayasan kdm  jl rawa dolar  \n",
       "\n",
       "[354 rows x 4 columns]"
      ]
     },
     "execution_count": 9,
     "metadata": {},
     "output_type": "execute_result"
    }
   ],
   "source": [
    "df[df['POI'].apply(lambda POI: \"yaya\" in POI)]"
   ]
  },
  {
   "cell_type": "code",
   "execution_count": 12,
   "id": "63fa2939",
   "metadata": {},
   "outputs": [
    {
     "data": {
      "text/html": [
       "<div>\n",
       "<style scoped>\n",
       "    .dataframe tbody tr th:only-of-type {\n",
       "        vertical-align: middle;\n",
       "    }\n",
       "\n",
       "    .dataframe tbody tr th {\n",
       "        vertical-align: top;\n",
       "    }\n",
       "\n",
       "    .dataframe thead th {\n",
       "        text-align: right;\n",
       "    }\n",
       "</style>\n",
       "<table border=\"1\" class=\"dataframe\">\n",
       "  <thead>\n",
       "    <tr style=\"text-align: right;\">\n",
       "      <th></th>\n",
       "      <th>raw_address</th>\n",
       "      <th>POI/street</th>\n",
       "      <th>POI</th>\n",
       "      <th>street</th>\n",
       "    </tr>\n",
       "    <tr>\n",
       "      <th>id</th>\n",
       "      <th></th>\n",
       "      <th></th>\n",
       "      <th></th>\n",
       "      <th></th>\n",
       "    </tr>\n",
       "  </thead>\n",
       "  <tbody>\n",
       "    <tr>\n",
       "      <th>72263</th>\n",
       "      <td>h2o pool dan bar, kar mas sejah,</td>\n",
       "      <td>h2o pool dan bar/kar mas sejah</td>\n",
       "      <td>h2o pool dan bar</td>\n",
       "      <td>kar mas sejah</td>\n",
       "    </tr>\n",
       "    <tr>\n",
       "      <th>84162</th>\n",
       "      <td>mase uma kitc dan bar, kerobokan kelod</td>\n",
       "      <td>mase uma kitchen dan bar/</td>\n",
       "      <td>mase uma kitchen dan bar</td>\n",
       "      <td></td>\n",
       "    </tr>\n",
       "    <tr>\n",
       "      <th>91282</th>\n",
       "      <td>rm. medan baru krekot, spesi bur punai, kre bu...</td>\n",
       "      <td>rm. medan baru krekot, spesialis burung punai/...</td>\n",
       "      <td>rm. medan baru krekot, spesialis burung punai</td>\n",
       "      <td>krekot bun</td>\n",
       "    </tr>\n",
       "    <tr>\n",
       "      <th>126246</th>\n",
       "      <td>rumpi coffee dan barbershop prof. dr. m. yam sh,</td>\n",
       "      <td>rumpi coffee dan barbershop/prof. dr. m. yam sh</td>\n",
       "      <td>rumpi coffee dan barbershop</td>\n",
       "      <td>prof. dr. m. yam sh</td>\n",
       "    </tr>\n",
       "    <tr>\n",
       "      <th>134657</th>\n",
       "      <td>kantor kepala desa pengadan baru</td>\n",
       "      <td>kantor kepala desa pengadan baru/</td>\n",
       "      <td>kantor kepala desa pengadan baru</td>\n",
       "      <td></td>\n",
       "    </tr>\n",
       "    <tr>\n",
       "      <th>145150</th>\n",
       "      <td>nib raya, no 153 pol medan baru,</td>\n",
       "      <td>polsek medan baru/nib raya</td>\n",
       "      <td>polsek medan baru</td>\n",
       "      <td>nib raya</td>\n",
       "    </tr>\n",
       "    <tr>\n",
       "      <th>201883</th>\n",
       "      <td>cipete utara beli mesin poles bekas dan baru h...</td>\n",
       "      <td>beli mesin poles bekas dan baru/haji saidi 1</td>\n",
       "      <td>beli mesin poles bekas dan baru</td>\n",
       "      <td>haji saidi 1</td>\n",
       "    </tr>\n",
       "    <tr>\n",
       "      <th>250129</th>\n",
       "      <td>ritual kitchen dan bar, scie boule barat medang</td>\n",
       "      <td>ritual kitchen dan bar/scie boulevard barat</td>\n",
       "      <td>ritual kitchen dan bar</td>\n",
       "      <td>scie boulevard barat</td>\n",
       "    </tr>\n",
       "  </tbody>\n",
       "</table>\n",
       "</div>"
      ],
      "text/plain": [
       "                                              raw_address  \\\n",
       "id                                                          \n",
       "72263                    h2o pool dan bar, kar mas sejah,   \n",
       "84162              mase uma kitc dan bar, kerobokan kelod   \n",
       "91282   rm. medan baru krekot, spesi bur punai, kre bu...   \n",
       "126246   rumpi coffee dan barbershop prof. dr. m. yam sh,   \n",
       "134657                   kantor kepala desa pengadan baru   \n",
       "145150                   nib raya, no 153 pol medan baru,   \n",
       "201883  cipete utara beli mesin poles bekas dan baru h...   \n",
       "250129    ritual kitchen dan bar, scie boule barat medang   \n",
       "\n",
       "                                               POI/street  \\\n",
       "id                                                          \n",
       "72263                      h2o pool dan bar/kar mas sejah   \n",
       "84162                           mase uma kitchen dan bar/   \n",
       "91282   rm. medan baru krekot, spesialis burung punai/...   \n",
       "126246    rumpi coffee dan barbershop/prof. dr. m. yam sh   \n",
       "134657                  kantor kepala desa pengadan baru/   \n",
       "145150                         polsek medan baru/nib raya   \n",
       "201883       beli mesin poles bekas dan baru/haji saidi 1   \n",
       "250129        ritual kitchen dan bar/scie boulevard barat   \n",
       "\n",
       "                                                  POI                street  \n",
       "id                                                                           \n",
       "72263                                h2o pool dan bar         kar mas sejah  \n",
       "84162                        mase uma kitchen dan bar                        \n",
       "91282   rm. medan baru krekot, spesialis burung punai            krekot bun  \n",
       "126246                    rumpi coffee dan barbershop   prof. dr. m. yam sh  \n",
       "134657               kantor kepala desa pengadan baru                        \n",
       "145150                              polsek medan baru              nib raya  \n",
       "201883                beli mesin poles bekas dan baru          haji saidi 1  \n",
       "250129                         ritual kitchen dan bar  scie boulevard barat  "
      ]
     },
     "execution_count": 12,
     "metadata": {},
     "output_type": "execute_result"
    }
   ],
   "source": [
    "df[df['POI'].apply(lambda POI: \"dan bar\" in POI)]"
   ]
  }
 ],
 "metadata": {
  "kernelspec": {
   "display_name": "Python 3",
   "language": "python",
   "name": "python3"
  },
  "language_info": {
   "codemirror_mode": {
    "name": "ipython",
    "version": 3
   },
   "file_extension": ".py",
   "mimetype": "text/x-python",
   "name": "python",
   "nbconvert_exporter": "python",
   "pygments_lexer": "ipython3",
   "version": "3.8.3"
  }
 },
 "nbformat": 4,
 "nbformat_minor": 5
}
