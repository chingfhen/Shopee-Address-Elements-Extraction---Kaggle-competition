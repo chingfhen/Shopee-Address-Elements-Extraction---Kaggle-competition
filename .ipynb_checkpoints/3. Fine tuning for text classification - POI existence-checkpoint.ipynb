{
 "cells": [
  {
   "cell_type": "markdown",
   "id": "069832ad",
   "metadata": {},
   "source": [
    "# ABOUT:\n",
    "- this notebook:\n",
    "    1. Preprocesses/ tokenize the text classification datasets to prepare for model training\n",
    "    2. **Fine-tunes roberta text classification model** to predict if point of interest or street name exists in an address"
   ]
  },
  {
   "cell_type": "code",
   "execution_count": 1,
   "id": "82717e69",
   "metadata": {},
   "outputs": [],
   "source": [
    "model_checkpoint = \"w11wo/indonesian-roberta-base-sentiment-classifier\"\n",
    "max_length = None\n",
    "num_labels = 2       \n",
    "batch_size = 50"
   ]
  },
  {
   "cell_type": "markdown",
   "id": "5887e2d3",
   "metadata": {},
   "source": [
    "## load_from_disk"
   ]
  },
  {
   "cell_type": "code",
   "execution_count": 2,
   "id": "1304f0b0",
   "metadata": {},
   "outputs": [],
   "source": [
    "from datasets import load_from_disk"
   ]
  },
  {
   "cell_type": "code",
   "execution_count": 3,
   "id": "86b433c3",
   "metadata": {},
   "outputs": [
    {
     "data": {
      "text/plain": [
       "DatasetDict({\n",
       "    train: Dataset({\n",
       "        features: ['POI', 'id', 'label', 'raw_address'],\n",
       "        num_rows: 285000\n",
       "    })\n",
       "    test: Dataset({\n",
       "        features: ['POI', 'id', 'label', 'raw_address'],\n",
       "        num_rows: 15000\n",
       "    })\n",
       "})"
      ]
     },
     "execution_count": 3,
     "metadata": {},
     "output_type": "execute_result"
    }
   ],
   "source": [
    "exist_or_not = load_from_disk(r\"C:\\Users\\tanch\\Documents\\Coding Competitions\\Shopee\\Comp 2 address elements extraction\\datasets\\POI existence cls dataset\")\n",
    "exist_or_not"
   ]
  },
  {
   "cell_type": "code",
   "execution_count": 4,
   "id": "ec9a18c3",
   "metadata": {},
   "outputs": [],
   "source": [
    "import datasets\n",
    "import random\n",
    "import pandas as pd\n",
    "from IPython.display import display, HTML\n",
    "def show_random_elements(dataset, num_examples=10):\n",
    "    assert num_examples <= len(dataset), \"Can't pick more elements than there are in the dataset.\"\n",
    "    picks = []\n",
    "    for _ in range(num_examples):\n",
    "        pick = random.randint(0, len(dataset)-1)\n",
    "        while pick in picks:\n",
    "            pick = random.randint(0, len(dataset)-1)\n",
    "        picks.append(pick)\n",
    "    \n",
    "    df = pd.DataFrame(dataset[picks])\n",
    "    for column, typ in dataset.features.items():\n",
    "        if isinstance(typ, datasets.ClassLabel):\n",
    "            df[column] = df[column].transform(lambda i: typ.names[i])\n",
    "    display(HTML(df.to_html()))"
   ]
  },
  {
   "cell_type": "code",
   "execution_count": 5,
   "id": "96b35bb4",
   "metadata": {},
   "outputs": [
    {
     "data": {
      "text/html": [
       "<table border=\"1\" class=\"dataframe\">\n",
       "  <thead>\n",
       "    <tr style=\"text-align: right;\">\n",
       "      <th></th>\n",
       "      <th>raw_address</th>\n",
       "      <th>label</th>\n",
       "      <th>POI</th>\n",
       "      <th>id</th>\n",
       "    </tr>\n",
       "  </thead>\n",
       "  <tbody>\n",
       "    <tr>\n",
       "      <th>0</th>\n",
       "      <td>jatayu ii 48 kalisari rt 1 rw 2 pasar rebo</td>\n",
       "      <td>does not exist</td>\n",
       "      <td></td>\n",
       "      <td>253129</td>\n",
       "    </tr>\n",
       "    <tr>\n",
       "      <th>1</th>\n",
       "      <td>wij kus sukabumi mayangan</td>\n",
       "      <td>does not exist</td>\n",
       "      <td></td>\n",
       "      <td>186681</td>\n",
       "    </tr>\n",
       "    <tr>\n",
       "      <th>2</th>\n",
       "      <td>gondrong ki. hajar dewan raya rt 2 1</td>\n",
       "      <td>does not exist</td>\n",
       "      <td></td>\n",
       "      <td>238644</td>\n",
       "    </tr>\n",
       "    <tr>\n",
       "      <th>3</th>\n",
       "      <td>sele lama 22 air merbau tanjung pandan</td>\n",
       "      <td>does not exist</td>\n",
       "      <td></td>\n",
       "      <td>57738</td>\n",
       "    </tr>\n",
       "    <tr>\n",
       "      <th>4</th>\n",
       "      <td>ayam gor sam meteooor sekepa i, cikutra cibeunying kidul</td>\n",
       "      <td>exist</td>\n",
       "      <td>ayam goreng sambel meteooor</td>\n",
       "      <td>227695</td>\n",
       "    </tr>\n",
       "    <tr>\n",
       "      <th>5</th>\n",
       "      <td>gelam jaya berl raya 17 pasar kemis</td>\n",
       "      <td>does not exist</td>\n",
       "      <td></td>\n",
       "      <td>241657</td>\n",
       "    </tr>\n",
       "    <tr>\n",
       "      <th>6</th>\n",
       "      <td>kiara cond 148 kebon gedang kiaracondong</td>\n",
       "      <td>does not exist</td>\n",
       "      <td></td>\n",
       "      <td>70052</td>\n",
       "    </tr>\n",
       "    <tr>\n",
       "      <th>7</th>\n",
       "      <td>mitra bukalapak toko dina bulu bulusari</td>\n",
       "      <td>exist</td>\n",
       "      <td>mitra bukalapak toko dina bulusari</td>\n",
       "      <td>148745</td>\n",
       "    </tr>\n",
       "    <tr>\n",
       "      <th>8</th>\n",
       "      <td>kadu kamp kadu no 77 15810 curug</td>\n",
       "      <td>does not exist</td>\n",
       "      <td></td>\n",
       "      <td>100952</td>\n",
       "    </tr>\n",
       "    <tr>\n",
       "      <th>9</th>\n",
       "      <td>siantan tengah kel. selat sumba 3 no 15 78242</td>\n",
       "      <td>does not exist</td>\n",
       "      <td></td>\n",
       "      <td>84384</td>\n",
       "    </tr>\n",
       "  </tbody>\n",
       "</table>"
      ],
      "text/plain": [
       "<IPython.core.display.HTML object>"
      ]
     },
     "metadata": {},
     "output_type": "display_data"
    }
   ],
   "source": [
    "show_random_elements(exist_or_not['train'])"
   ]
  },
  {
   "cell_type": "code",
   "execution_count": 8,
   "id": "984d0ab7",
   "metadata": {},
   "outputs": [],
   "source": [
    "def encode_labels(egs):\n",
    "    label_mappings = {\"exist\":1,\n",
    "                      \"does not exist\":0}\n",
    "    egs['label'] = [label_mappings[label] for label in egs['label']]\n",
    "    return egs"
   ]
  },
  {
   "cell_type": "markdown",
   "id": "68cf2004",
   "metadata": {},
   "source": [
    "- here, we are doing classification task with 4 labels (shown above)\n",
    "- they need to be encoded to numbers!"
   ]
  },
  {
   "cell_type": "code",
   "execution_count": 9,
   "id": "362fb64b",
   "metadata": {},
   "outputs": [
    {
     "data": {
      "application/vnd.jupyter.widget-view+json": {
       "model_id": "2458093addec422a8b7c0d7f229c2f6e",
       "version_major": 2,
       "version_minor": 0
      },
      "text/plain": [
       "HBox(children=(FloatProgress(value=0.0, max=285.0), HTML(value='')))"
      ]
     },
     "metadata": {},
     "output_type": "display_data"
    },
    {
     "name": "stdout",
     "output_type": "stream",
     "text": [
      "\n"
     ]
    },
    {
     "data": {
      "application/vnd.jupyter.widget-view+json": {
       "model_id": "fff559d105aa4c03bfaa909b0205122c",
       "version_major": 2,
       "version_minor": 0
      },
      "text/plain": [
       "HBox(children=(FloatProgress(value=0.0, max=15.0), HTML(value='')))"
      ]
     },
     "metadata": {},
     "output_type": "display_data"
    },
    {
     "name": "stdout",
     "output_type": "stream",
     "text": [
      "\n"
     ]
    }
   ],
   "source": [
    "exist_or_not = exist_or_not.map(encode_labels, batched = True)"
   ]
  },
  {
   "cell_type": "code",
   "execution_count": 10,
   "id": "167a52d0",
   "metadata": {},
   "outputs": [],
   "source": [
    "exist_or_not.remove_columns_([\"POI\",\"id\"])"
   ]
  },
  {
   "cell_type": "code",
   "execution_count": 11,
   "id": "5d678473",
   "metadata": {
    "scrolled": true
   },
   "outputs": [
    {
     "data": {
      "text/html": [
       "<table border=\"1\" class=\"dataframe\">\n",
       "  <thead>\n",
       "    <tr style=\"text-align: right;\">\n",
       "      <th></th>\n",
       "      <th>label</th>\n",
       "      <th>raw_address</th>\n",
       "    </tr>\n",
       "  </thead>\n",
       "  <tbody>\n",
       "    <tr>\n",
       "      <th>0</th>\n",
       "      <td>0</td>\n",
       "      <td>sekip ujung utan kayu selatan matraman</td>\n",
       "    </tr>\n",
       "    <tr>\n",
       "      <th>1</th>\n",
       "      <td>1</td>\n",
       "      <td>tupak raja warkop betta malau,</td>\n",
       "    </tr>\n",
       "    <tr>\n",
       "      <th>2</th>\n",
       "      <td>0</td>\n",
       "      <td>karamat bha 117 gunung puyuh</td>\n",
       "    </tr>\n",
       "    <tr>\n",
       "      <th>3</th>\n",
       "      <td>0</td>\n",
       "      <td>warung asmunih, haji holil, no 75 15156</td>\n",
       "    </tr>\n",
       "    <tr>\n",
       "      <th>4</th>\n",
       "      <td>1</td>\n",
       "      <td>bojong menteng rt 001 002</td>\n",
       "    </tr>\n",
       "    <tr>\n",
       "      <th>5</th>\n",
       "      <td>0</td>\n",
       "      <td>indra kila, batu ampar kel.</td>\n",
       "    </tr>\n",
       "    <tr>\n",
       "      <th>6</th>\n",
       "      <td>0</td>\n",
       "      <td>surau gadang kel. komplek pgri, 13 25146</td>\n",
       "    </tr>\n",
       "    <tr>\n",
       "      <th>7</th>\n",
       "      <td>1</td>\n",
       "      <td>tb hadi mak,</td>\n",
       "    </tr>\n",
       "    <tr>\n",
       "      <th>8</th>\n",
       "      <td>0</td>\n",
       "      <td>kukusan k.h usman 18a beji</td>\n",
       "    </tr>\n",
       "    <tr>\n",
       "      <th>9</th>\n",
       "      <td>0</td>\n",
       "      <td>grand wisata, jl mustika jaya, rt.02 rw.05, lambangsari</td>\n",
       "    </tr>\n",
       "  </tbody>\n",
       "</table>"
      ],
      "text/plain": [
       "<IPython.core.display.HTML object>"
      ]
     },
     "metadata": {},
     "output_type": "display_data"
    }
   ],
   "source": [
    "show_random_elements(exist_or_not['train'])"
   ]
  },
  {
   "cell_type": "markdown",
   "id": "884c3c27",
   "metadata": {},
   "source": [
    "## 2. load_metric\n",
    "- each task has its own associated metric\n",
    "\n",
    "    - for CoLA: Matthews Correlation Coefficient\n",
    "    - for MNLI (matched or mismatched): Accuracy\n",
    "    - for MRPC: Accuracy and F1 score\n",
    "    - for QNLI: Accuracy\n",
    "    - for QQP: Accuracy and F1 score\n",
    "    - for RTE: Accuracy\n",
    "    - for SST-2: Accuracy\n",
    "    - for STS-B: Pearson Correlation Coefficient and Spearman's_Rank_Correlation_Coefficient\n",
    "    - for WNLI: Accuracy"
   ]
  },
  {
   "cell_type": "code",
   "execution_count": 13,
   "id": "15b34641",
   "metadata": {
    "scrolled": false
   },
   "outputs": [
    {
     "data": {
      "text/plain": [
       "Metric(name: \"glue\", features: {'predictions': Value(dtype='int64', id=None), 'references': Value(dtype='int64', id=None)}, usage: \"\"\"\n",
       "Compute GLUE evaluation metric associated to each GLUE dataset.\n",
       "Args:\n",
       "    predictions: list of predictions to score.\n",
       "        Each translation should be tokenized into a list of tokens.\n",
       "    references: list of lists of references for each translation.\n",
       "        Each reference should be tokenized into a list of tokens.\n",
       "Returns: depending on the GLUE subset, one or several of:\n",
       "    \"accuracy\": Accuracy\n",
       "    \"f1\": F1 score\n",
       "    \"pearson\": Pearson Correlation\n",
       "    \"spearmanr\": Spearman Correlation\n",
       "    \"matthews_correlation\": Matthew Correlation\n",
       "\"\"\", stored examples: 0)"
      ]
     },
     "execution_count": 13,
     "metadata": {},
     "output_type": "execute_result"
    }
   ],
   "source": [
    "from datasets import load_metric\n",
    "metric = load_metric('glue', \"sst2\")\n",
    "metric"
   ]
  },
  {
   "cell_type": "markdown",
   "id": "60049816",
   "metadata": {},
   "source": [
    "- since \"sst2\" task uses the accuracy metric and is also 1-sentenced\n",
    "- thus, we will reference \"sst2\" to load accuracy metric (above)"
   ]
  },
  {
   "cell_type": "markdown",
   "id": "35438bcc",
   "metadata": {},
   "source": [
    "## 3. Pre-processing: \n",
    "- depending on whether the task has 1 or 2 sentences, pre-processing is done slightly differently\n",
    "- for 1 sentence:\n",
    "    - **[CLS] and [SEP] tokens are added to the front and end of the sentence respectively**\n",
    "- for 2 sentences:\n",
    "    - in addition to above steps, the second sentence is concatenated and another [SEP] token is added to the end "
   ]
  },
  {
   "cell_type": "code",
   "execution_count": 14,
   "id": "fb80e282",
   "metadata": {},
   "outputs": [],
   "source": [
    "from transformers import AutoTokenizer\n",
    "tokenizer = AutoTokenizer.from_pretrained(model_checkpoint, \n",
    "                                          use_fast=True ,   # uses fast tokenizer\n",
    "                                          # padding = \"longest\"\n",
    "                                          )"
   ]
  },
  {
   "cell_type": "code",
   "execution_count": 15,
   "id": "638380ff",
   "metadata": {},
   "outputs": [],
   "source": [
    "# this function is meant to process either one sentence \n",
    "def preprocess_function(examples):\n",
    "    return tokenizer(examples[\"raw_address\"], \n",
    "                     truncation = True,\n",
    "                     padding = \"longest\",          #  padding = True means to pad to longest sequence length\n",
    "                     #max_length = max_length,\n",
    "                     #add_special_tokens = True,\n",
    "                     #return_tensors = 'pt'\n",
    "                     )\n",
    "                     # add_special_tokens = True)\n",
    "    \n",
    "    # output[\"length\"] = list(map(len,output[\"input_ids\"]))\n",
    "    # return output"
   ]
  },
  {
   "cell_type": "code",
   "execution_count": 16,
   "id": "d5f15ade",
   "metadata": {
    "scrolled": true
   },
   "outputs": [
    {
     "name": "stderr",
     "output_type": "stream",
     "text": [
      "Asking to truncate to max_length but no maximum length is provided and the model has no predefined maximum length. Default to no truncation.\n"
     ]
    },
    {
     "data": {
      "application/vnd.jupyter.widget-view+json": {
       "model_id": "83be9f0979a94c7ebb3739e656f462f2",
       "version_major": 2,
       "version_minor": 0
      },
      "text/plain": [
       "HBox(children=(FloatProgress(value=0.0, max=285.0), HTML(value='')))"
      ]
     },
     "metadata": {},
     "output_type": "display_data"
    },
    {
     "name": "stdout",
     "output_type": "stream",
     "text": [
      "\n"
     ]
    },
    {
     "data": {
      "application/vnd.jupyter.widget-view+json": {
       "model_id": "16e8953019e54371bae4b1db6a53bda0",
       "version_major": 2,
       "version_minor": 0
      },
      "text/plain": [
       "HBox(children=(FloatProgress(value=0.0, max=15.0), HTML(value='')))"
      ]
     },
     "metadata": {},
     "output_type": "display_data"
    },
    {
     "name": "stdout",
     "output_type": "stream",
     "text": [
      "\n"
     ]
    }
   ],
   "source": [
    "tokenized_dataset = exist_or_not.map(preprocess_function,\n",
    "                                     batched = True\n",
    "                                     )"
   ]
  },
  {
   "cell_type": "code",
   "execution_count": 17,
   "id": "2e3447e3",
   "metadata": {},
   "outputs": [],
   "source": [
    "tokenized_dataset.remove_columns_([\"raw_address\"])"
   ]
  },
  {
   "cell_type": "code",
   "execution_count": 18,
   "id": "a78aae6c",
   "metadata": {},
   "outputs": [
    {
     "data": {
      "text/html": [
       "<table border=\"1\" class=\"dataframe\">\n",
       "  <thead>\n",
       "    <tr style=\"text-align: right;\">\n",
       "      <th></th>\n",
       "      <th>attention_mask</th>\n",
       "      <th>input_ids</th>\n",
       "      <th>label</th>\n",
       "    </tr>\n",
       "  </thead>\n",
       "  <tbody>\n",
       "    <tr>\n",
       "      <th>0</th>\n",
       "      <td>[1, 1, 1, 1, 1, 1, 1, 1, 1, 1, 0, 0, 0, 0, 0, 0, 0, 0, 0, 0, 0, 0, 0, 0, 0, 0, 0, 0, 0, 0, 0, 0, 0, 0]</td>\n",
       "      <td>[70, 810, 729, 16, 1946, 271, 2554, 274, 443, 282, 1, 1, 1, 1, 1, 1, 1, 1, 1, 1, 1, 1, 1, 1, 1, 1, 1, 1, 1, 1, 1, 1, 1, 1]</td>\n",
       "      <td>0</td>\n",
       "    </tr>\n",
       "    <tr>\n",
       "      <th>1</th>\n",
       "      <td>[1, 1, 1, 1, 1, 1, 1, 1, 1, 1, 0, 0, 0, 0, 0, 0, 0, 0, 0, 0, 0, 0, 0, 0, 0, 0, 0, 0, 0, 0, 0, 0, 0, 0, 0, 0, 0]</td>\n",
       "      <td>[40081, 10236, 7026, 262, 391, 529, 23182, 456, 17566, 12076, 1, 1, 1, 1, 1, 1, 1, 1, 1, 1, 1, 1, 1, 1, 1, 1, 1, 1, 1, 1, 1, 1, 1, 1, 1, 1, 1]</td>\n",
       "      <td>0</td>\n",
       "    </tr>\n",
       "    <tr>\n",
       "      <th>2</th>\n",
       "      <td>[1, 1, 1, 1, 1, 1, 1, 1, 1, 1, 1, 1, 1, 1, 1, 1, 1, 1, 1, 1, 1, 1, 1, 0, 0, 0, 0, 0, 0, 0, 0, 0, 0, 0, 0, 0]</td>\n",
       "      <td>[78, 80, 82, 378, 1154, 47394, 280, 1674, 7207, 29079, 858, 22022, 11387, 4275, 730, 1041, 262, 271, 2955, 11408, 11433, 277, 1680, 1, 1, 1, 1, 1, 1, 1, 1, 1, 1, 1, 1, 1]</td>\n",
       "      <td>0</td>\n",
       "    </tr>\n",
       "    <tr>\n",
       "      <th>3</th>\n",
       "      <td>[1, 1, 1, 1, 1, 1, 1, 1, 1, 1, 1, 1, 0, 0, 0, 0, 0, 0, 0, 0, 0, 0, 0, 0, 0, 0, 0, 0, 0, 0, 0]</td>\n",
       "      <td>[8531, 490, 1161, 12226, 2705, 32805, 10700, 4250, 22, 867, 3341, 30210, 1, 1, 1, 1, 1, 1, 1, 1, 1, 1, 1, 1, 1, 1, 1, 1, 1, 1, 1]</td>\n",
       "      <td>0</td>\n",
       "    </tr>\n",
       "    <tr>\n",
       "      <th>4</th>\n",
       "      <td>[1, 1, 1, 1, 1, 1, 1, 1, 1, 1, 1, 0, 0, 0, 0, 0, 0, 0, 0, 0, 0, 0, 0, 0, 0, 0, 0, 0, 0, 0, 0, 0]</td>\n",
       "      <td>[79, 5004, 16, 4275, 5038, 619, 6494, 1819, 1738, 12904, 5324, 1, 1, 1, 1, 1, 1, 1, 1, 1, 1, 1, 1, 1, 1, 1, 1, 1, 1, 1, 1, 1]</td>\n",
       "      <td>1</td>\n",
       "    </tr>\n",
       "    <tr>\n",
       "      <th>5</th>\n",
       "      <td>[1, 1, 1, 1, 1, 1, 1, 0, 0, 0, 0, 0, 0, 0, 0, 0, 0, 0, 0, 0, 0, 0, 0, 0, 0, 0, 0, 0, 0, 0, 0, 0, 0, 0, 0]</td>\n",
       "      <td>[35443, 2705, 692, 16, 2512, 5972, 16, 1, 1, 1, 1, 1, 1, 1, 1, 1, 1, 1, 1, 1, 1, 1, 1, 1, 1, 1, 1, 1, 1, 1, 1, 1, 1, 1, 1]</td>\n",
       "      <td>1</td>\n",
       "    </tr>\n",
       "    <tr>\n",
       "      <th>6</th>\n",
       "      <td>[1, 1, 1, 1, 1, 1, 1, 1, 1, 1, 0, 0, 0, 0, 0, 0, 0, 0, 0, 0, 0, 0, 0, 0, 0, 0, 0, 0, 0, 0, 0, 0, 0]</td>\n",
       "      <td>[290, 88, 9962, 456, 16, 3924, 7777, 3194, 539, 18, 1, 1, 1, 1, 1, 1, 1, 1, 1, 1, 1, 1, 1, 1, 1, 1, 1, 1, 1, 1, 1, 1, 1]</td>\n",
       "      <td>0</td>\n",
       "    </tr>\n",
       "    <tr>\n",
       "      <th>7</th>\n",
       "      <td>[1, 1, 1, 1, 1, 1, 1, 1, 1, 1, 1, 0, 0, 0, 0, 0, 0, 0, 0, 0, 0, 0, 0, 0, 0, 0, 0, 0, 0, 0, 0, 0, 0, 0, 0]</td>\n",
       "      <td>[3391, 72, 16, 552, 35368, 274, 11391, 552, 35368, 274, 11391, 1, 1, 1, 1, 1, 1, 1, 1, 1, 1, 1, 1, 1, 1, 1, 1, 1, 1, 1, 1, 1, 1, 1, 1]</td>\n",
       "      <td>0</td>\n",
       "    </tr>\n",
       "    <tr>\n",
       "      <th>8</th>\n",
       "      <td>[1, 1, 1, 1, 1, 1, 0, 0, 0, 0, 0, 0, 0, 0, 0, 0, 0, 0, 0, 0, 0, 0, 0, 0, 0, 0, 0, 0, 0, 0, 0, 0, 0]</td>\n",
       "      <td>[5909, 8996, 16, 729, 4343, 6216, 1, 1, 1, 1, 1, 1, 1, 1, 1, 1, 1, 1, 1, 1, 1, 1, 1, 1, 1, 1, 1, 1, 1, 1, 1, 1, 1]</td>\n",
       "      <td>0</td>\n",
       "    </tr>\n",
       "    <tr>\n",
       "      <th>9</th>\n",
       "      <td>[1, 1, 1, 1, 1, 1, 1, 1, 1, 1, 1, 0, 0, 0, 0, 0, 0, 0, 0, 0, 0, 0, 0, 0, 0, 0, 0, 0, 0, 0, 0, 0, 0, 0, 0, 0]</td>\n",
       "      <td>[39999, 837, 902, 1721, 69, 276, 708, 2313, 1721, 450, 280, 1, 1, 1, 1, 1, 1, 1, 1, 1, 1, 1, 1, 1, 1, 1, 1, 1, 1, 1, 1, 1, 1, 1, 1, 1]</td>\n",
       "      <td>1</td>\n",
       "    </tr>\n",
       "  </tbody>\n",
       "</table>"
      ],
      "text/plain": [
       "<IPython.core.display.HTML object>"
      ]
     },
     "metadata": {},
     "output_type": "display_data"
    }
   ],
   "source": [
    "show_random_elements(tokenized_dataset['train'])"
   ]
  },
  {
   "cell_type": "markdown",
   "id": "84185721",
   "metadata": {},
   "source": [
    "- to train our modle in batches later on, the above input_ids must be of the same length"
   ]
  },
  {
   "cell_type": "code",
   "execution_count": 19,
   "id": "0f25f446",
   "metadata": {},
   "outputs": [],
   "source": [
    "# from datasets import DatasetDict\n",
    "# smol_tokenized_dataset = DatasetDict()\n",
    "# smol_tokenized_dataset['train'] = tokenized_dataset['train'].select(range(55000,65000))\n",
    "# smol_tokenized_dataset['test'] = tokenized_dataset['test'].select(range(500))\n",
    "# smol_tokenized_dataset"
   ]
  },
  {
   "cell_type": "markdown",
   "id": "708e04cd",
   "metadata": {},
   "source": [
    "## 4. AutoModelForSequenceClassification:\n",
    "- \"AutoModel\" will guess and load the pre-trained model architecture we are using based on model_checkpoint\n",
    "- \"ForSequenceClassification\" adds the sequence classfication head at the end of the pre-trained model\n",
    "    - for sequence classification we are essentially applying a classfication model on the [CLS] token\n",
    "    - reason being that, during the pre-training of BERT, the model learns to encode the entire meaning of any sentence into the [CLS] token"
   ]
  },
  {
   "cell_type": "code",
   "execution_count": 20,
   "id": "dfe4b283",
   "metadata": {},
   "outputs": [],
   "source": [
    "from transformers import AutoModelForSequenceClassification, TrainingArguments, Trainer, AutoConfig"
   ]
  },
  {
   "cell_type": "markdown",
   "id": "f8f57393",
   "metadata": {},
   "source": [
    "- the fine-tuned model downloaded from huggingface was fine-tuned to predict 3 labels i.e it has 3 NN output nodes\n",
    "- however, we need 2 \n",
    "- therefore, we first load the model with AutoConfig and change the \"num_labels\" attribute\n",
    "- using the code below, we ensure that **our model has 2 output nodes**"
   ]
  },
  {
   "cell_type": "code",
   "execution_count": 21,
   "id": "7971d7ce",
   "metadata": {},
   "outputs": [],
   "source": [
    "config = AutoConfig.from_pretrained(model_checkpoint)               \n",
    "config.num_labels = num_labels \n",
    "model = AutoModelForSequenceClassification.from_config(config)"
   ]
  },
  {
   "cell_type": "markdown",
   "id": "6d6187fc",
   "metadata": {},
   "source": [
    "## 5. TrainingArguments\n",
    "- this customizes how we want the training to be done and other hyperparameters"
   ]
  },
  {
   "cell_type": "code",
   "execution_count": 22,
   "id": "79a77ff1",
   "metadata": {},
   "outputs": [],
   "source": [
    "args = TrainingArguments(\n",
    "    \"test-glue\",\n",
    "    evaluation_strategy = \"no\",                           \n",
    "    learning_rate=2e-5,\n",
    "    per_device_train_batch_size=batch_size,\n",
    "    per_device_eval_batch_size=batch_size,\n",
    "    num_train_epochs=1,\n",
    "    weight_decay=0.01,\n",
    "    # load_best_model_at_end=True,                               # best model may not be the model at the end of training, thus this param enables us to save any best model during training\n",
    "    # metric_for_best_model=\"accuracy\",\n",
    "    save_strategy = \"no\" ,                                  # dont save at every step\n",
    "    logging_strategy = \"no\" ,   \n",
    "    # eval_steps = 500\n",
    ")"
   ]
  },
  {
   "cell_type": "markdown",
   "id": "a7324f7c",
   "metadata": {},
   "source": [
    "## 6. Trainer\n"
   ]
  },
  {
   "cell_type": "code",
   "execution_count": 23,
   "id": "bda40051",
   "metadata": {},
   "outputs": [],
   "source": [
    "def compute_metrics(eval_pred):\n",
    "    predictions, labels = eval_pred\n",
    "#     if task != \"stsb\":\n",
    "#         predictions = np.argmax(predictions, axis=1)\n",
    "#     else:\n",
    "    predictions = predictions[:, 0]\n",
    "    return metric.compute(predictions=predictions, references=labels)"
   ]
  },
  {
   "cell_type": "code",
   "execution_count": 24,
   "id": "75b11550",
   "metadata": {},
   "outputs": [],
   "source": [
    "trainer = Trainer(\n",
    "    model,\n",
    "    args,\n",
    "    train_dataset=tokenized_dataset[\"train\"],                  # input should be tokenized\n",
    "    # eval_dataset=smol_tokenized_dataset[\"test\"],\n",
    "    tokenizer=tokenizer,                                     # tokenizer is specified again to padd all samples to the same length\n",
    "    compute_metrics=compute_metrics,\n",
    "    # data_collator = collator\n",
    ")"
   ]
  },
  {
   "cell_type": "code",
   "execution_count": 25,
   "id": "6a698acf",
   "metadata": {},
   "outputs": [],
   "source": [
    "# import mlflow\n",
    "# mlflow.end_run()"
   ]
  },
  {
   "cell_type": "code",
   "execution_count": 26,
   "id": "6bd7c1c0",
   "metadata": {
    "scrolled": true
   },
   "outputs": [
    {
     "name": "stderr",
     "output_type": "stream",
     "text": [
      "***** Running training *****\n",
      "  Num examples = 285000\n",
      "  Num Epochs = 1\n",
      "  Instantaneous batch size per device = 50\n",
      "  Total train batch size (w. parallel, distributed & accumulation) = 50\n",
      "  Gradient Accumulation steps = 1\n",
      "  Total optimization steps = 5700\n"
     ]
    },
    {
     "data": {
      "text/html": [
       "\n",
       "    <div>\n",
       "      \n",
       "      <progress value='5700' max='5700' style='width:300px; height:20px; vertical-align: middle;'></progress>\n",
       "      [5700/5700 54:40, Epoch 1/1]\n",
       "    </div>\n",
       "    <table border=\"1\" class=\"dataframe\">\n",
       "  <thead>\n",
       "    <tr style=\"text-align: left;\">\n",
       "      <th>Step</th>\n",
       "      <th>Training Loss</th>\n",
       "    </tr>\n",
       "  </thead>\n",
       "  <tbody>\n",
       "  </tbody>\n",
       "</table><p>"
      ],
      "text/plain": [
       "<IPython.core.display.HTML object>"
      ]
     },
     "metadata": {},
     "output_type": "display_data"
    },
    {
     "name": "stderr",
     "output_type": "stream",
     "text": [
      "\n",
      "\n",
      "Training completed. Do not forget to share your model on huggingface.co/models =)\n",
      "\n",
      "\n"
     ]
    },
    {
     "data": {
      "text/plain": [
       "TrainOutput(global_step=5700, training_loss=0.3402528568736294, metrics={'train_runtime': 3281.9804, 'train_samples_per_second': 86.838, 'train_steps_per_second': 1.737, 'total_flos': 9236056143792000.0, 'train_loss': 0.3402528568736294, 'epoch': 1.0})"
      ]
     },
     "execution_count": 26,
     "metadata": {},
     "output_type": "execute_result"
    }
   ],
   "source": [
    "trainer.train()"
   ]
  },
  {
   "cell_type": "code",
   "execution_count": 27,
   "id": "43b5c602",
   "metadata": {},
   "outputs": [
    {
     "name": "stderr",
     "output_type": "stream",
     "text": [
      "Configuration saved in C:\\Users\\tanch\\Documents\\Coding Competitions\\Shopee\\Shopee Address Elements Extraction (local)\\models\\POI street existence model\\config.json\n",
      "Model weights saved in C:\\Users\\tanch\\Documents\\Coding Competitions\\Shopee\\Shopee Address Elements Extraction (local)\\models\\POI street existence model\\pytorch_model.bin\n"
     ]
    }
   ],
   "source": [
    "model.save_pretrained(r\"C:\\Users\\tanch\\Documents\\Coding Competitions\\Shopee\\Shopee Address Elements Extraction (local)\\models\\POI existence model\")"
   ]
  },
  {
   "cell_type": "code",
   "execution_count": null,
   "id": "33329fc0",
   "metadata": {},
   "outputs": [],
   "source": []
  },
  {
   "cell_type": "code",
   "execution_count": null,
   "id": "e4417192",
   "metadata": {},
   "outputs": [],
   "source": []
  },
  {
   "cell_type": "markdown",
   "id": "9a911306",
   "metadata": {},
   "source": [
    "## Confusion matrix and accuracy"
   ]
  },
  {
   "cell_type": "code",
   "execution_count": 28,
   "id": "c3927731",
   "metadata": {},
   "outputs": [
    {
     "name": "stderr",
     "output_type": "stream",
     "text": [
      "***** Running Prediction *****\n",
      "  Num examples = 15000\n",
      "  Batch size = 50\n"
     ]
    },
    {
     "data": {
      "text/html": [
       "\n",
       "    <div>\n",
       "      \n",
       "      <progress value='300' max='300' style='width:300px; height:20px; vertical-align: middle;'></progress>\n",
       "      [300/300 00:40]\n",
       "    </div>\n",
       "    "
      ],
      "text/plain": [
       "<IPython.core.display.HTML object>"
      ]
     },
     "metadata": {},
     "output_type": "display_data"
    }
   ],
   "source": [
    "import numpy as np\n",
    "output = trainer.predict(tokenized_dataset['test'])\n",
    "y = np.array(tokenized_dataset['test']['label'])\n",
    "y_pred = [np.argmax(logits) for logits in output.predictions]"
   ]
  },
  {
   "cell_type": "code",
   "execution_count": 29,
   "id": "c73d705d",
   "metadata": {},
   "outputs": [
    {
     "name": "stdout",
     "output_type": "stream",
     "text": [
      "Accuracy 0.8914666666666666\n"
     ]
    }
   ],
   "source": [
    "print(\"Accuracy\", sum(y_pred==y)/len(y))"
   ]
  },
  {
   "cell_type": "code",
   "execution_count": 30,
   "id": "f702ef68",
   "metadata": {},
   "outputs": [
    {
     "data": {
      "text/plain": [
       "array([[7816, 1100],\n",
       "       [ 528, 5556]], dtype=int64)"
      ]
     },
     "execution_count": 30,
     "metadata": {},
     "output_type": "execute_result"
    }
   ],
   "source": [
    "from sklearn.metrics import confusion_matrix\n",
    "confusion_matrix(y,y_pred)"
   ]
  },
  {
   "cell_type": "markdown",
   "id": "62fb275b",
   "metadata": {},
   "source": [
    "- (above) the columns are y_pred (predictions by model) while the rows are the y (true labels)"
   ]
  },
  {
   "cell_type": "code",
   "execution_count": null,
   "id": "185d7a30",
   "metadata": {},
   "outputs": [],
   "source": []
  }
 ],
 "metadata": {
  "kernelspec": {
   "display_name": "Python 3",
   "language": "python",
   "name": "python3"
  },
  "language_info": {
   "codemirror_mode": {
    "name": "ipython",
    "version": 3
   },
   "file_extension": ".py",
   "mimetype": "text/x-python",
   "name": "python",
   "nbconvert_exporter": "python",
   "pygments_lexer": "ipython3",
   "version": "3.8.3"
  }
 },
 "nbformat": 4,
 "nbformat_minor": 5
}
