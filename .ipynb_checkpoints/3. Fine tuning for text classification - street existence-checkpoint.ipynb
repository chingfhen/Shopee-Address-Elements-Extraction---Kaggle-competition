{
 "cells": [
  {
   "cell_type": "markdown",
   "id": "069832ad",
   "metadata": {},
   "source": [
    "# ABOUT:\n",
    "- this notebook:\n",
    "    1. Preprocesses/ tokenize the text classification datasets to prepare for model training\n",
    "    2. **Fine-tunes roberta text classification model** to predict if point of interest or street name exists in an address"
   ]
  },
  {
   "cell_type": "code",
   "execution_count": 1,
   "id": "82717e69",
   "metadata": {},
   "outputs": [],
   "source": [
    "model_checkpoint = \"w11wo/indonesian-roberta-base-sentiment-classifier\"\n",
    "max_length = None\n",
    "num_labels = 2       \n",
    "batch_size = 50"
   ]
  },
  {
   "cell_type": "markdown",
   "id": "5887e2d3",
   "metadata": {},
   "source": [
    "## load_from_disk"
   ]
  },
  {
   "cell_type": "code",
   "execution_count": 2,
   "id": "1304f0b0",
   "metadata": {},
   "outputs": [],
   "source": [
    "from datasets import load_from_disk"
   ]
  },
  {
   "cell_type": "code",
   "execution_count": 3,
   "id": "86b433c3",
   "metadata": {
    "scrolled": true
   },
   "outputs": [
    {
     "data": {
      "text/plain": [
       "DatasetDict({\n",
       "    train: Dataset({\n",
       "        features: ['id', 'label', 'raw_address', 'street'],\n",
       "        num_rows: 285000\n",
       "    })\n",
       "    test: Dataset({\n",
       "        features: ['id', 'label', 'raw_address', 'street'],\n",
       "        num_rows: 15000\n",
       "    })\n",
       "})"
      ]
     },
     "execution_count": 3,
     "metadata": {},
     "output_type": "execute_result"
    }
   ],
   "source": [
    "exist_or_not = load_from_disk(r\"C:\\Users\\tanch\\Documents\\Coding Competitions\\Shopee\\Comp 2 address elements extraction\\datasets\\street existence cls dataset\")\n",
    "exist_or_not"
   ]
  },
  {
   "cell_type": "code",
   "execution_count": 4,
   "id": "ec9a18c3",
   "metadata": {},
   "outputs": [],
   "source": [
    "import datasets\n",
    "import random\n",
    "import pandas as pd\n",
    "from IPython.display import display, HTML\n",
    "def show_random_elements(dataset, num_examples=10):\n",
    "    assert num_examples <= len(dataset), \"Can't pick more elements than there are in the dataset.\"\n",
    "    picks = []\n",
    "    for _ in range(num_examples):\n",
    "        pick = random.randint(0, len(dataset)-1)\n",
    "        while pick in picks:\n",
    "            pick = random.randint(0, len(dataset)-1)\n",
    "        picks.append(pick)\n",
    "    \n",
    "    df = pd.DataFrame(dataset[picks])\n",
    "    for column, typ in dataset.features.items():\n",
    "        if isinstance(typ, datasets.ClassLabel):\n",
    "            df[column] = df[column].transform(lambda i: typ.names[i])\n",
    "    display(HTML(df.to_html()))"
   ]
  },
  {
   "cell_type": "code",
   "execution_count": 5,
   "id": "4e377414",
   "metadata": {},
   "outputs": [
    {
     "data": {
      "text/html": [
       "<table border=\"1\" class=\"dataframe\">\n",
       "  <thead>\n",
       "    <tr style=\"text-align: right;\">\n",
       "      <th></th>\n",
       "      <th>raw_address</th>\n",
       "      <th>label</th>\n",
       "      <th>street</th>\n",
       "      <th>id</th>\n",
       "    </tr>\n",
       "  </thead>\n",
       "  <tbody>\n",
       "    <tr>\n",
       "      <th>0</th>\n",
       "      <td>bpsdm hukum dan ham jl. raya gandul no 4 kel. gandul</td>\n",
       "      <td>exist</td>\n",
       "      <td>jl. raya gandul</td>\n",
       "      <td>27408</td>\n",
       "    </tr>\n",
       "    <tr>\n",
       "      <th>1</th>\n",
       "      <td>kestalan abdul rah saleh banjarsari</td>\n",
       "      <td>exist</td>\n",
       "      <td>abdul rah saleh</td>\n",
       "      <td>147509</td>\n",
       "    </tr>\n",
       "    <tr>\n",
       "      <th>2</th>\n",
       "      <td>agen bus suma kuto,</td>\n",
       "      <td>exist</td>\n",
       "      <td>kuto</td>\n",
       "      <td>18937</td>\n",
       "    </tr>\n",
       "    <tr>\n",
       "      <th>3</th>\n",
       "      <td>jakasampurna tangk per 67 17145 bekasi barat</td>\n",
       "      <td>exist</td>\n",
       "      <td>tangk per</td>\n",
       "      <td>265575</td>\n",
       "    </tr>\n",
       "    <tr>\n",
       "      <th>4</th>\n",
       "      <td>cluster carissa graha raya bintaro blok c-02, rt 01  rw 014 jl. boulevard graha raya kel</td>\n",
       "      <td>does not exist</td>\n",
       "      <td></td>\n",
       "      <td>32901</td>\n",
       "    </tr>\n",
       "    <tr>\n",
       "      <th>5</th>\n",
       "      <td>domain inter pt ban raya, mampang prapatan</td>\n",
       "      <td>exist</td>\n",
       "      <td>ban raya</td>\n",
       "      <td>134058</td>\n",
       "    </tr>\n",
       "    <tr>\n",
       "      <th>6</th>\n",
       "      <td>anggi cell</td>\n",
       "      <td>does not exist</td>\n",
       "      <td></td>\n",
       "      <td>256890</td>\n",
       "    </tr>\n",
       "    <tr>\n",
       "      <th>7</th>\n",
       "      <td>kfc ratul - kds, bhayan, bongaya mamajang</td>\n",
       "      <td>exist</td>\n",
       "      <td>bhayan</td>\n",
       "      <td>108131</td>\n",
       "    </tr>\n",
       "    <tr>\n",
       "      <th>8</th>\n",
       "      <td>mang 67 gunung sekar sampang</td>\n",
       "      <td>exist</td>\n",
       "      <td>mang</td>\n",
       "      <td>12632</td>\n",
       "    </tr>\n",
       "    <tr>\n",
       "      <th>9</th>\n",
       "      <td>pangkalan jati rt 01 rw 013 kelurahan cipinang melayu kecamatan makasar jakarta timur</td>\n",
       "      <td>does not exist</td>\n",
       "      <td></td>\n",
       "      <td>85104</td>\n",
       "    </tr>\n",
       "  </tbody>\n",
       "</table>"
      ],
      "text/plain": [
       "<IPython.core.display.HTML object>"
      ]
     },
     "metadata": {},
     "output_type": "display_data"
    }
   ],
   "source": [
    "show_random_elements(exist_or_not['train'])"
   ]
  },
  {
   "cell_type": "code",
   "execution_count": 6,
   "id": "984d0ab7",
   "metadata": {},
   "outputs": [],
   "source": [
    "def encode_labels(egs):\n",
    "    label_mappings = {\"exist\":1,\n",
    "                      \"does not exist\":0}\n",
    "    egs['label'] = [label_mappings[label] for label in egs['label']]\n",
    "    return egs"
   ]
  },
  {
   "cell_type": "markdown",
   "id": "68cf2004",
   "metadata": {},
   "source": [
    "- here, we are doing classification task with 4 labels (shown above)\n",
    "- they need to be encoded to numbers!"
   ]
  },
  {
   "cell_type": "code",
   "execution_count": 7,
   "id": "362fb64b",
   "metadata": {},
   "outputs": [
    {
     "data": {
      "application/vnd.jupyter.widget-view+json": {
       "model_id": "0597a60f297b498bad38cce4ead8c3ce",
       "version_major": 2,
       "version_minor": 0
      },
      "text/plain": [
       "HBox(children=(FloatProgress(value=0.0, max=285.0), HTML(value='')))"
      ]
     },
     "metadata": {},
     "output_type": "display_data"
    },
    {
     "name": "stdout",
     "output_type": "stream",
     "text": [
      "\n"
     ]
    },
    {
     "data": {
      "application/vnd.jupyter.widget-view+json": {
       "model_id": "946d92c2c81246b1b7e3e6ef1ed46efa",
       "version_major": 2,
       "version_minor": 0
      },
      "text/plain": [
       "HBox(children=(FloatProgress(value=0.0, max=15.0), HTML(value='')))"
      ]
     },
     "metadata": {},
     "output_type": "display_data"
    },
    {
     "name": "stdout",
     "output_type": "stream",
     "text": [
      "\n"
     ]
    }
   ],
   "source": [
    "exist_or_not = exist_or_not.map(encode_labels, batched = True)"
   ]
  },
  {
   "cell_type": "code",
   "execution_count": 8,
   "id": "167a52d0",
   "metadata": {},
   "outputs": [],
   "source": [
    "exist_or_not.remove_columns_([\"street\",\"id\"])"
   ]
  },
  {
   "cell_type": "code",
   "execution_count": 9,
   "id": "5d678473",
   "metadata": {
    "scrolled": false
   },
   "outputs": [
    {
     "data": {
      "text/html": [
       "<table border=\"1\" class=\"dataframe\">\n",
       "  <thead>\n",
       "    <tr style=\"text-align: right;\">\n",
       "      <th></th>\n",
       "      <th>label</th>\n",
       "      <th>raw_address</th>\n",
       "    </tr>\n",
       "  </thead>\n",
       "  <tbody>\n",
       "    <tr>\n",
       "      <th>0</th>\n",
       "      <td>1</td>\n",
       "      <td>abdul wahab sia, dukuh pakis</td>\n",
       "    </tr>\n",
       "    <tr>\n",
       "      <th>1</th>\n",
       "      <td>1</td>\n",
       "      <td>karangraharja lily, 17530 cikarang utara</td>\n",
       "    </tr>\n",
       "    <tr>\n",
       "      <th>2</th>\n",
       "      <td>1</td>\n",
       "      <td>cipinang cempedak kebon nanas sela ii 48 rt 4 7 13340 jatinegara</td>\n",
       "    </tr>\n",
       "    <tr>\n",
       "      <th>3</th>\n",
       "      <td>1</td>\n",
       "      <td>mojom mojorejo junrejo</td>\n",
       "    </tr>\n",
       "    <tr>\n",
       "      <th>4</th>\n",
       "      <td>1</td>\n",
       "      <td>ciku kampung baru tanjung pinang barat</td>\n",
       "    </tr>\n",
       "    <tr>\n",
       "      <th>5</th>\n",
       "      <td>1</td>\n",
       "      <td>jatiranggon super indo raya han rt 4 2 17431 jati sampurna</td>\n",
       "    </tr>\n",
       "    <tr>\n",
       "      <th>6</th>\n",
       "      <td>1</td>\n",
       "      <td>toko babeh akhir garuda ii, 9 pasir gunung selatan cimanggis</td>\n",
       "    </tr>\n",
       "    <tr>\n",
       "      <th>7</th>\n",
       "      <td>1</td>\n",
       "      <td>bb pet shop, radio dalam, kebayoran baru</td>\n",
       "    </tr>\n",
       "    <tr>\n",
       "      <th>8</th>\n",
       "      <td>1</td>\n",
       "      <td>bas rah, 116 lion parcel bojonegoro kadipaten bojonegoro</td>\n",
       "    </tr>\n",
       "    <tr>\n",
       "      <th>9</th>\n",
       "      <td>0</td>\n",
       "      <td>photo copy tiga cahaya</td>\n",
       "    </tr>\n",
       "  </tbody>\n",
       "</table>"
      ],
      "text/plain": [
       "<IPython.core.display.HTML object>"
      ]
     },
     "metadata": {},
     "output_type": "display_data"
    }
   ],
   "source": [
    "show_random_elements(exist_or_not['train'])"
   ]
  },
  {
   "cell_type": "markdown",
   "id": "884c3c27",
   "metadata": {},
   "source": [
    "## 2. load_metric\n",
    "- each task has its own associated metric\n",
    "\n",
    "    - for CoLA: Matthews Correlation Coefficient\n",
    "    - for MNLI (matched or mismatched): Accuracy\n",
    "    - for MRPC: Accuracy and F1 score\n",
    "    - for QNLI: Accuracy\n",
    "    - for QQP: Accuracy and F1 score\n",
    "    - for RTE: Accuracy\n",
    "    - for SST-2: Accuracy\n",
    "    - for STS-B: Pearson Correlation Coefficient and Spearman's_Rank_Correlation_Coefficient\n",
    "    - for WNLI: Accuracy"
   ]
  },
  {
   "cell_type": "code",
   "execution_count": 10,
   "id": "15b34641",
   "metadata": {
    "scrolled": false
   },
   "outputs": [
    {
     "data": {
      "text/plain": [
       "Metric(name: \"glue\", features: {'predictions': Value(dtype='int64', id=None), 'references': Value(dtype='int64', id=None)}, usage: \"\"\"\n",
       "Compute GLUE evaluation metric associated to each GLUE dataset.\n",
       "Args:\n",
       "    predictions: list of predictions to score.\n",
       "        Each translation should be tokenized into a list of tokens.\n",
       "    references: list of lists of references for each translation.\n",
       "        Each reference should be tokenized into a list of tokens.\n",
       "Returns: depending on the GLUE subset, one or several of:\n",
       "    \"accuracy\": Accuracy\n",
       "    \"f1\": F1 score\n",
       "    \"pearson\": Pearson Correlation\n",
       "    \"spearmanr\": Spearman Correlation\n",
       "    \"matthews_correlation\": Matthew Correlation\n",
       "\"\"\", stored examples: 0)"
      ]
     },
     "execution_count": 10,
     "metadata": {},
     "output_type": "execute_result"
    }
   ],
   "source": [
    "from datasets import load_metric\n",
    "metric = load_metric('glue', \"sst2\")\n",
    "metric"
   ]
  },
  {
   "cell_type": "markdown",
   "id": "60049816",
   "metadata": {},
   "source": [
    "- since \"sst2\" task uses the accuracy metric and is also 1-sentenced\n",
    "- thus, we will reference \"sst2\" to load accuracy metric (above)"
   ]
  },
  {
   "cell_type": "markdown",
   "id": "35438bcc",
   "metadata": {},
   "source": [
    "## 3. Pre-processing: \n",
    "- depending on whether the task has 1 or 2 sentences, pre-processing is done slightly differently\n",
    "- for 1 sentence:\n",
    "    - **[CLS] and [SEP] tokens are added to the front and end of the sentence respectively**\n",
    "- for 2 sentences:\n",
    "    - in addition to above steps, the second sentence is concatenated and another [SEP] token is added to the end "
   ]
  },
  {
   "cell_type": "code",
   "execution_count": 11,
   "id": "fb80e282",
   "metadata": {},
   "outputs": [],
   "source": [
    "from transformers import AutoTokenizer\n",
    "tokenizer = AutoTokenizer.from_pretrained(model_checkpoint, \n",
    "                                          use_fast=True ,   # uses fast tokenizer\n",
    "                                          # padding = \"longest\"\n",
    "                                          )"
   ]
  },
  {
   "cell_type": "code",
   "execution_count": 12,
   "id": "638380ff",
   "metadata": {},
   "outputs": [],
   "source": [
    "# this function is meant to process either one sentence \n",
    "def preprocess_function(examples):\n",
    "    return tokenizer(examples[\"raw_address\"], \n",
    "                     truncation = True,\n",
    "                     padding = \"longest\",          #  padding = True means to pad to longest sequence length\n",
    "                     #max_length = max_length,\n",
    "                     #add_special_tokens = True,\n",
    "                     #return_tensors = 'pt'\n",
    "                     )\n",
    "                     # add_special_tokens = True)\n",
    "    \n",
    "    # output[\"length\"] = list(map(len,output[\"input_ids\"]))\n",
    "    # return output"
   ]
  },
  {
   "cell_type": "code",
   "execution_count": 13,
   "id": "d5f15ade",
   "metadata": {
    "scrolled": true
   },
   "outputs": [
    {
     "name": "stderr",
     "output_type": "stream",
     "text": [
      "Asking to truncate to max_length but no maximum length is provided and the model has no predefined maximum length. Default to no truncation.\n"
     ]
    },
    {
     "data": {
      "application/vnd.jupyter.widget-view+json": {
       "model_id": "854a7affb57149a4a553554ee52e4404",
       "version_major": 2,
       "version_minor": 0
      },
      "text/plain": [
       "HBox(children=(FloatProgress(value=0.0, max=285.0), HTML(value='')))"
      ]
     },
     "metadata": {},
     "output_type": "display_data"
    },
    {
     "name": "stdout",
     "output_type": "stream",
     "text": [
      "\n"
     ]
    },
    {
     "data": {
      "application/vnd.jupyter.widget-view+json": {
       "model_id": "9bfebbb7fdc94da99b6c6b66de26c932",
       "version_major": 2,
       "version_minor": 0
      },
      "text/plain": [
       "HBox(children=(FloatProgress(value=0.0, max=15.0), HTML(value='')))"
      ]
     },
     "metadata": {},
     "output_type": "display_data"
    },
    {
     "name": "stdout",
     "output_type": "stream",
     "text": [
      "\n"
     ]
    }
   ],
   "source": [
    "tokenized_dataset = exist_or_not.map(preprocess_function,\n",
    "                                     batched = True\n",
    "                                     )"
   ]
  },
  {
   "cell_type": "code",
   "execution_count": 14,
   "id": "2e3447e3",
   "metadata": {},
   "outputs": [],
   "source": [
    "tokenized_dataset.remove_columns_([\"raw_address\"])"
   ]
  },
  {
   "cell_type": "code",
   "execution_count": 15,
   "id": "a78aae6c",
   "metadata": {},
   "outputs": [
    {
     "data": {
      "text/html": [
       "<table border=\"1\" class=\"dataframe\">\n",
       "  <thead>\n",
       "    <tr style=\"text-align: right;\">\n",
       "      <th></th>\n",
       "      <th>attention_mask</th>\n",
       "      <th>input_ids</th>\n",
       "      <th>label</th>\n",
       "    </tr>\n",
       "  </thead>\n",
       "  <tbody>\n",
       "    <tr>\n",
       "      <th>0</th>\n",
       "      <td>[1, 1, 1, 1, 1, 1, 1, 1, 0, 0, 0, 0, 0, 0, 0, 0, 0, 0, 0, 0, 0, 0, 0, 0, 0, 0, 0, 0, 0, 0]</td>\n",
       "      <td>[70, 5617, 988, 297, 25890, 2733, 450, 319, 1, 1, 1, 1, 1, 1, 1, 1, 1, 1, 1, 1, 1, 1, 1, 1, 1, 1, 1, 1, 1, 1]</td>\n",
       "      <td>1</td>\n",
       "    </tr>\n",
       "    <tr>\n",
       "      <th>1</th>\n",
       "      <td>[1, 1, 1, 1, 1, 1, 1, 1, 1, 1, 1, 1, 0, 0, 0, 0, 0, 0, 0, 0, 0, 0, 0, 0, 0, 0, 0, 0, 0, 0, 0, 0, 0, 0]</td>\n",
       "      <td>[10509, 81, 748, 281, 14634, 1228, 347, 88, 465, 1315, 1304, 25833, 1, 1, 1, 1, 1, 1, 1, 1, 1, 1, 1, 1, 1, 1, 1, 1, 1, 1, 1, 1, 1, 1]</td>\n",
       "      <td>1</td>\n",
       "    </tr>\n",
       "    <tr>\n",
       "      <th>2</th>\n",
       "      <td>[1, 1, 1, 1, 1, 1, 1, 1, 1, 1, 1, 1, 1, 1, 1, 1, 1, 1, 1, 1, 1, 1, 1, 0, 0, 0, 0, 0, 0, 0, 0, 0, 0, 0]</td>\n",
       "      <td>[14021, 83, 16769, 7200, 39457, 16, 9445, 274, 4275, 456, 16, 38396, 82, 18, 297, 799, 12106, 22842, 261, 16, 292, 77, 2300, 1, 1, 1, 1, 1, 1, 1, 1, 1, 1, 1]</td>\n",
       "      <td>1</td>\n",
       "    </tr>\n",
       "    <tr>\n",
       "      <th>3</th>\n",
       "      <td>[1, 1, 1, 1, 1, 1, 1, 1, 0, 0, 0, 0, 0, 0, 0, 0, 0, 0, 0, 0, 0, 0, 0, 0, 0, 0, 0, 0, 0, 0, 0, 0, 0]</td>\n",
       "      <td>[40351, 30464, 1883, 18190, 1723, 32128, 703, 336, 1, 1, 1, 1, 1, 1, 1, 1, 1, 1, 1, 1, 1, 1, 1, 1, 1, 1, 1, 1, 1, 1, 1, 1, 1]</td>\n",
       "      <td>0</td>\n",
       "    </tr>\n",
       "    <tr>\n",
       "      <th>4</th>\n",
       "      <td>[1, 1, 1, 1, 1, 1, 1, 1, 1, 1, 1, 0, 0, 0, 0, 0, 0, 0, 0, 0, 0, 0, 0, 0, 0, 0, 0, 0, 0, 0, 0]</td>\n",
       "      <td>[71, 817, 328, 4275, 15463, 70, 833, 336, 23118, 1895, 26553, 1, 1, 1, 1, 1, 1, 1, 1, 1, 1, 1, 1, 1, 1, 1, 1, 1, 1, 1, 1]</td>\n",
       "      <td>1</td>\n",
       "    </tr>\n",
       "    <tr>\n",
       "      <th>5</th>\n",
       "      <td>[1, 1, 1, 1, 1, 0, 0, 0, 0, 0, 0, 0, 0, 0, 0, 0, 0, 0, 0, 0, 0, 0, 0, 0, 0, 0, 0, 0, 0, 0, 0, 0, 0]</td>\n",
       "      <td>[11527, 448, 5232, 25585, 16, 1, 1, 1, 1, 1, 1, 1, 1, 1, 1, 1, 1, 1, 1, 1, 1, 1, 1, 1, 1, 1, 1, 1, 1, 1, 1, 1, 1]</td>\n",
       "      <td>0</td>\n",
       "    </tr>\n",
       "    <tr>\n",
       "      <th>6</th>\n",
       "      <td>[1, 1, 1, 1, 1, 1, 1, 1, 1, 1, 1, 0, 0, 0, 0, 0, 0, 0, 0, 0, 0, 0, 0, 0, 0, 0, 0, 0, 0, 0, 0, 0, 0, 0, 0, 0]</td>\n",
       "      <td>[35640, 1344, 28378, 7803, 5396, 908, 9445, 274, 22, 4275, 1986, 1, 1, 1, 1, 1, 1, 1, 1, 1, 1, 1, 1, 1, 1, 1, 1, 1, 1, 1, 1, 1, 1, 1, 1, 1]</td>\n",
       "      <td>0</td>\n",
       "    </tr>\n",
       "    <tr>\n",
       "      <th>7</th>\n",
       "      <td>[1, 1, 1, 1, 1, 1, 1, 0, 0, 0, 0, 0, 0, 0, 0, 0, 0, 0, 0, 0, 0, 0, 0, 0, 0, 0, 0, 0, 0, 0, 0, 0, 0, 0, 0, 0, 0, 0]</td>\n",
       "      <td>[71, 486, 5569, 925, 667, 310, 7467, 1, 1, 1, 1, 1, 1, 1, 1, 1, 1, 1, 1, 1, 1, 1, 1, 1, 1, 1, 1, 1, 1, 1, 1, 1, 1, 1, 1, 1, 1, 1]</td>\n",
       "      <td>1</td>\n",
       "    </tr>\n",
       "    <tr>\n",
       "      <th>8</th>\n",
       "      <td>[1, 1, 1, 1, 1, 1, 1, 1, 1, 0, 0, 0, 0, 0, 0, 0, 0, 0, 0, 0, 0, 0, 0, 0, 0, 0, 0, 0, 0, 0, 0, 0, 0, 0, 0, 0, 0, 0, 0]</td>\n",
       "      <td>[43458, 24499, 13030, 16, 485, 355, 16391, 949, 16, 1, 1, 1, 1, 1, 1, 1, 1, 1, 1, 1, 1, 1, 1, 1, 1, 1, 1, 1, 1, 1, 1, 1, 1, 1, 1, 1, 1, 1, 1]</td>\n",
       "      <td>1</td>\n",
       "    </tr>\n",
       "    <tr>\n",
       "      <th>9</th>\n",
       "      <td>[1, 1, 1, 1, 1, 1, 1, 1, 0, 0, 0, 0, 0, 0, 0, 0, 0, 0, 0, 0, 0, 0, 0, 0, 0, 0, 0, 0, 0, 0]</td>\n",
       "      <td>[5196, 2164, 16, 2777, 574, 13817, 5976, 302, 1, 1, 1, 1, 1, 1, 1, 1, 1, 1, 1, 1, 1, 1, 1, 1, 1, 1, 1, 1, 1, 1]</td>\n",
       "      <td>1</td>\n",
       "    </tr>\n",
       "  </tbody>\n",
       "</table>"
      ],
      "text/plain": [
       "<IPython.core.display.HTML object>"
      ]
     },
     "metadata": {},
     "output_type": "display_data"
    }
   ],
   "source": [
    "show_random_elements(tokenized_dataset['train'])"
   ]
  },
  {
   "cell_type": "markdown",
   "id": "84185721",
   "metadata": {},
   "source": [
    "- to train our modle in batches later on, the above input_ids must be of the same length"
   ]
  },
  {
   "cell_type": "code",
   "execution_count": 16,
   "id": "0f25f446",
   "metadata": {},
   "outputs": [],
   "source": [
    "# from datasets import DatasetDict\n",
    "# smol_tokenized_dataset = DatasetDict()\n",
    "# smol_tokenized_dataset['train'] = tokenized_dataset['train'].select(range(55000,65000))\n",
    "# smol_tokenized_dataset['test'] = tokenized_dataset['test'].select(range(500))\n",
    "# smol_tokenized_dataset"
   ]
  },
  {
   "cell_type": "markdown",
   "id": "708e04cd",
   "metadata": {},
   "source": [
    "## 4. AutoModelForSequenceClassification:\n",
    "- \"AutoModel\" will guess and load the pre-trained model architecture we are using based on model_checkpoint\n",
    "- \"ForSequenceClassification\" adds the sequence classfication head at the end of the pre-trained model\n",
    "    - for sequence classification we are essentially applying a classfication model on the [CLS] token\n",
    "    - reason being that, during the pre-training of BERT, the model learns to encode the entire meaning of any sentence into the [CLS] token"
   ]
  },
  {
   "cell_type": "code",
   "execution_count": 17,
   "id": "dfe4b283",
   "metadata": {},
   "outputs": [],
   "source": [
    "from transformers import AutoModelForSequenceClassification, TrainingArguments, Trainer, AutoConfig"
   ]
  },
  {
   "cell_type": "markdown",
   "id": "f8f57393",
   "metadata": {},
   "source": [
    "- the fine-tuned model downloaded from huggingface was fine-tuned to predict 3 labels i.e it has 3 NN output nodes\n",
    "- however, we need 2 \n",
    "- therefore, we first load the model with AutoConfig and change the \"num_labels\" attribute\n",
    "- using the code below, we ensure that **our model has 2 output nodes**"
   ]
  },
  {
   "cell_type": "code",
   "execution_count": 18,
   "id": "7971d7ce",
   "metadata": {},
   "outputs": [],
   "source": [
    "config = AutoConfig.from_pretrained(model_checkpoint)               \n",
    "config.num_labels = num_labels \n",
    "model = AutoModelForSequenceClassification.from_config(config)"
   ]
  },
  {
   "cell_type": "markdown",
   "id": "6d6187fc",
   "metadata": {},
   "source": [
    "## 5. TrainingArguments\n",
    "- this customizes how we want the training to be done and other hyperparameters"
   ]
  },
  {
   "cell_type": "code",
   "execution_count": 19,
   "id": "79a77ff1",
   "metadata": {},
   "outputs": [],
   "source": [
    "args = TrainingArguments(\n",
    "    \"test-glue\",\n",
    "    evaluation_strategy = \"no\",                           \n",
    "    learning_rate=2e-5,\n",
    "    per_device_train_batch_size=batch_size,\n",
    "    per_device_eval_batch_size=batch_size,\n",
    "    num_train_epochs=1,\n",
    "    weight_decay=0.01,\n",
    "    # load_best_model_at_end=True,                               # best model may not be the model at the end of training, thus this param enables us to save any best model during training\n",
    "    # metric_for_best_model=\"accuracy\",\n",
    "    save_strategy = \"no\" ,                                  # dont save at every step\n",
    "    logging_strategy = \"no\" ,   \n",
    "    # eval_steps = 500\n",
    ")"
   ]
  },
  {
   "cell_type": "markdown",
   "id": "a7324f7c",
   "metadata": {},
   "source": [
    "## 6. Trainer\n"
   ]
  },
  {
   "cell_type": "code",
   "execution_count": 20,
   "id": "bda40051",
   "metadata": {},
   "outputs": [],
   "source": [
    "def compute_metrics(eval_pred):\n",
    "    predictions, labels = eval_pred\n",
    "#     if task != \"stsb\":\n",
    "#         predictions = np.argmax(predictions, axis=1)\n",
    "#     else:\n",
    "    predictions = predictions[:, 0]\n",
    "    return metric.compute(predictions=predictions, references=labels)"
   ]
  },
  {
   "cell_type": "code",
   "execution_count": 21,
   "id": "75b11550",
   "metadata": {},
   "outputs": [],
   "source": [
    "trainer = Trainer(\n",
    "    model,\n",
    "    args,\n",
    "    train_dataset=tokenized_dataset[\"train\"],                  # input should be tokenized\n",
    "    # eval_dataset=tokenized_dataset[\"test\"],\n",
    "    tokenizer=tokenizer,                                     # tokenizer is specified again to padd all samples to the same length\n",
    "    compute_metrics=compute_metrics,\n",
    "    # data_collator = collator\n",
    ")"
   ]
  },
  {
   "cell_type": "code",
   "execution_count": 22,
   "id": "6a698acf",
   "metadata": {},
   "outputs": [],
   "source": [
    "# import mlflow\n",
    "# mlflow.end_run()"
   ]
  },
  {
   "cell_type": "code",
   "execution_count": 23,
   "id": "6bd7c1c0",
   "metadata": {
    "scrolled": true
   },
   "outputs": [
    {
     "name": "stderr",
     "output_type": "stream",
     "text": [
      "***** Running training *****\n",
      "  Num examples = 285000\n",
      "  Num Epochs = 1\n",
      "  Instantaneous batch size per device = 50\n",
      "  Total train batch size (w. parallel, distributed & accumulation) = 50\n",
      "  Gradient Accumulation steps = 1\n",
      "  Total optimization steps = 5700\n"
     ]
    },
    {
     "data": {
      "text/html": [
       "\n",
       "    <div>\n",
       "      \n",
       "      <progress value='5700' max='5700' style='width:300px; height:20px; vertical-align: middle;'></progress>\n",
       "      [5700/5700 55:08, Epoch 1/1]\n",
       "    </div>\n",
       "    <table border=\"1\" class=\"dataframe\">\n",
       "  <thead>\n",
       "    <tr style=\"text-align: left;\">\n",
       "      <th>Step</th>\n",
       "      <th>Training Loss</th>\n",
       "    </tr>\n",
       "  </thead>\n",
       "  <tbody>\n",
       "  </tbody>\n",
       "</table><p>"
      ],
      "text/plain": [
       "<IPython.core.display.HTML object>"
      ]
     },
     "metadata": {},
     "output_type": "display_data"
    },
    {
     "name": "stderr",
     "output_type": "stream",
     "text": [
      "\n",
      "\n",
      "Training completed. Do not forget to share your model on huggingface.co/models =)\n",
      "\n",
      "\n"
     ]
    },
    {
     "data": {
      "text/plain": [
       "TrainOutput(global_step=5700, training_loss=0.4292176363760965, metrics={'train_runtime': 3309.4521, 'train_samples_per_second': 86.117, 'train_steps_per_second': 1.722, 'total_flos': 9249331067397000.0, 'train_loss': 0.4292176363760965, 'epoch': 1.0})"
      ]
     },
     "execution_count": 23,
     "metadata": {},
     "output_type": "execute_result"
    }
   ],
   "source": [
    "trainer.train()"
   ]
  },
  {
   "cell_type": "code",
   "execution_count": 24,
   "id": "43b5c602",
   "metadata": {},
   "outputs": [
    {
     "name": "stderr",
     "output_type": "stream",
     "text": [
      "Configuration saved in C:\\Users\\tanch\\Documents\\Coding Competitions\\Shopee\\Shopee Address Elements Extraction (local)\\models\\street existence model\\config.json\n",
      "Model weights saved in C:\\Users\\tanch\\Documents\\Coding Competitions\\Shopee\\Shopee Address Elements Extraction (local)\\models\\street existence model\\pytorch_model.bin\n"
     ]
    }
   ],
   "source": [
    "model.save_pretrained(r\"C:\\Users\\tanch\\Documents\\Coding Competitions\\Shopee\\Shopee Address Elements Extraction (local)\\models\\street existence model\")"
   ]
  },
  {
   "cell_type": "code",
   "execution_count": null,
   "id": "33329fc0",
   "metadata": {},
   "outputs": [],
   "source": []
  },
  {
   "cell_type": "code",
   "execution_count": null,
   "id": "e4417192",
   "metadata": {},
   "outputs": [],
   "source": []
  },
  {
   "cell_type": "code",
   "execution_count": null,
   "id": "ac457702",
   "metadata": {},
   "outputs": [],
   "source": []
  },
  {
   "cell_type": "markdown",
   "id": "9a911306",
   "metadata": {},
   "source": [
    "## Confusion matrix and accuracy"
   ]
  },
  {
   "cell_type": "code",
   "execution_count": 25,
   "id": "c3927731",
   "metadata": {},
   "outputs": [
    {
     "name": "stderr",
     "output_type": "stream",
     "text": [
      "***** Running Prediction *****\n",
      "  Num examples = 15000\n",
      "  Batch size = 50\n"
     ]
    },
    {
     "data": {
      "text/html": [
       "\n",
       "    <div>\n",
       "      \n",
       "      <progress value='300' max='300' style='width:300px; height:20px; vertical-align: middle;'></progress>\n",
       "      [300/300 00:41]\n",
       "    </div>\n",
       "    "
      ],
      "text/plain": [
       "<IPython.core.display.HTML object>"
      ]
     },
     "metadata": {},
     "output_type": "display_data"
    }
   ],
   "source": [
    "import numpy as np\n",
    "output = trainer.predict(tokenized_dataset['test'])\n",
    "y = np.array(tokenized_dataset['test']['label'])\n",
    "y_pred = [np.argmax(logits) for logits in output.predictions]"
   ]
  },
  {
   "cell_type": "code",
   "execution_count": 26,
   "id": "c73d705d",
   "metadata": {},
   "outputs": [
    {
     "name": "stdout",
     "output_type": "stream",
     "text": [
      "Accuracy 0.845\n"
     ]
    }
   ],
   "source": [
    "print(\"Accuracy\", sum(y_pred==y)/len(y))"
   ]
  },
  {
   "cell_type": "code",
   "execution_count": 27,
   "id": "f702ef68",
   "metadata": {},
   "outputs": [
    {
     "data": {
      "text/plain": [
       "array([[ 1329,  2141],\n",
       "       [  184, 11346]], dtype=int64)"
      ]
     },
     "execution_count": 27,
     "metadata": {},
     "output_type": "execute_result"
    }
   ],
   "source": [
    "from sklearn.metrics import confusion_matrix\n",
    "confusion_matrix(y,y_pred)"
   ]
  },
  {
   "cell_type": "markdown",
   "id": "62fb275b",
   "metadata": {},
   "source": [
    "- (above) the columns are y_pred (predictions by model) while the rows are the y (true labels)"
   ]
  },
  {
   "cell_type": "code",
   "execution_count": null,
   "id": "c6c5bb85",
   "metadata": {},
   "outputs": [],
   "source": []
  }
 ],
 "metadata": {
  "kernelspec": {
   "display_name": "Python 3",
   "language": "python",
   "name": "python3"
  },
  "language_info": {
   "codemirror_mode": {
    "name": "ipython",
    "version": 3
   },
   "file_extension": ".py",
   "mimetype": "text/x-python",
   "name": "python",
   "nbconvert_exporter": "python",
   "pygments_lexer": "ipython3",
   "version": "3.8.3"
  }
 },
 "nbformat": 4,
 "nbformat_minor": 5
}
