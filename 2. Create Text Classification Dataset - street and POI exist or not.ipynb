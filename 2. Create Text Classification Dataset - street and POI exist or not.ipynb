{
 "cells": [
  {
   "cell_type": "markdown",
   "id": "746cd7a4",
   "metadata": {},
   "source": [
    "# ABOUT:\n",
    "- given the shopee address elements extraction dataset, https://www.kaggle.com/c/scl-2021-ds/data\n",
    "- we generate two text classification datasets:\n",
    "    1. POI existence dataset - whether POI exists in the raw address\n",
    "    2. street existence dataset - whether street exists in the raw address\n",
    "- each with 2 labels:\n",
    "    1. exist\n",
    "    2. does not exist\n",
    " "
   ]
  },
  {
   "cell_type": "code",
   "execution_count": 1,
   "id": "8bf991bb",
   "metadata": {},
   "outputs": [
    {
     "data": {
      "text/html": [
       "<div>\n",
       "<style scoped>\n",
       "    .dataframe tbody tr th:only-of-type {\n",
       "        vertical-align: middle;\n",
       "    }\n",
       "\n",
       "    .dataframe tbody tr th {\n",
       "        vertical-align: top;\n",
       "    }\n",
       "\n",
       "    .dataframe thead th {\n",
       "        text-align: right;\n",
       "    }\n",
       "</style>\n",
       "<table border=\"1\" class=\"dataframe\">\n",
       "  <thead>\n",
       "    <tr style=\"text-align: right;\">\n",
       "      <th></th>\n",
       "      <th>raw_address</th>\n",
       "      <th>POI/street</th>\n",
       "    </tr>\n",
       "    <tr>\n",
       "      <th>id</th>\n",
       "      <th></th>\n",
       "      <th></th>\n",
       "    </tr>\n",
       "  </thead>\n",
       "  <tbody>\n",
       "    <tr>\n",
       "      <th>0</th>\n",
       "      <td>jl kapuk timur delta sili iii lippo cika 11 a ...</td>\n",
       "      <td>/jl kapuk timur delta sili iii lippo cika</td>\n",
       "    </tr>\n",
       "    <tr>\n",
       "      <th>1</th>\n",
       "      <td>aye, jati sampurna</td>\n",
       "      <td>/</td>\n",
       "    </tr>\n",
       "    <tr>\n",
       "      <th>2</th>\n",
       "      <td>setu siung 119 rt 5 1 13880 cipayung</td>\n",
       "      <td>/siung</td>\n",
       "    </tr>\n",
       "    <tr>\n",
       "      <th>3</th>\n",
       "      <td>toko dita, kertosono</td>\n",
       "      <td>toko dita/</td>\n",
       "    </tr>\n",
       "    <tr>\n",
       "      <th>4</th>\n",
       "      <td>jl. orde baru</td>\n",
       "      <td>/jl. orde baru</td>\n",
       "    </tr>\n",
       "  </tbody>\n",
       "</table>\n",
       "</div>"
      ],
      "text/plain": [
       "                                          raw_address  \\\n",
       "id                                                      \n",
       "0   jl kapuk timur delta sili iii lippo cika 11 a ...   \n",
       "1                                  aye, jati sampurna   \n",
       "2                setu siung 119 rt 5 1 13880 cipayung   \n",
       "3                                toko dita, kertosono   \n",
       "4                                       jl. orde baru   \n",
       "\n",
       "                                   POI/street  \n",
       "id                                             \n",
       "0   /jl kapuk timur delta sili iii lippo cika  \n",
       "1                                           /  \n",
       "2                                      /siung  \n",
       "3                                  toko dita/  \n",
       "4                              /jl. orde baru  "
      ]
     },
     "execution_count": 1,
     "metadata": {},
     "output_type": "execute_result"
    }
   ],
   "source": [
    "import pandas as pd\n",
    "df = pd.read_csv(r\"C:\\Users\\tanch\\Documents\\Coding Competitions\\Shopee\\Shopee Address Elements Extraction (local)\\datasets\\train.csv\\train.csv\")\n",
    "df = df.set_index('id')\n",
    "df.head()"
   ]
  },
  {
   "cell_type": "markdown",
   "id": "206e740e",
   "metadata": {},
   "source": [
    "## Generate labels for text classification\n",
    "- we generate 2 labels:\n",
    "    - \"exist\"\n",
    "    - \"does not exist\"\n",
    "- we generate 2 datasets - one for POI another for street"
   ]
  },
  {
   "cell_type": "code",
   "execution_count": 2,
   "id": "3cb02ef7",
   "metadata": {},
   "outputs": [],
   "source": [
    "# split 'POI/street' column into 2 individual columns\n",
    "df[['POI', 'street']] = df['POI/street'].str.split('/', expand=True)"
   ]
  },
  {
   "cell_type": "code",
   "execution_count": 3,
   "id": "3911e6c8",
   "metadata": {},
   "outputs": [],
   "source": [
    "# generrate two datasets - one for POI another for street\n",
    "POI_df = df[[\"raw_address\",\"POI\"]]\n",
    "street_df = df[[\"raw_address\",\"street\"]]"
   ]
  },
  {
   "cell_type": "code",
   "execution_count": 4,
   "id": "c85f23a4",
   "metadata": {},
   "outputs": [],
   "source": [
    "def generate_label(row, target_colname):\n",
    "    if row[target_colname]!=\"\":\n",
    "        return \"exist\"\n",
    "    return \"does not exist\""
   ]
  },
  {
   "cell_type": "code",
   "execution_count": 5,
   "id": "17e4b227",
   "metadata": {},
   "outputs": [
    {
     "name": "stderr",
     "output_type": "stream",
     "text": [
      "C:\\Users\\tanch\\anaconda3\\lib\\site-packages\\pandas\\core\\indexing.py:1597: SettingWithCopyWarning: \n",
      "A value is trying to be set on a copy of a slice from a DataFrame.\n",
      "Try using .loc[row_indexer,col_indexer] = value instead\n",
      "\n",
      "See the caveats in the documentation: https://pandas.pydata.org/pandas-docs/stable/user_guide/indexing.html#returning-a-view-versus-a-copy\n",
      "  self.obj[key] = value\n",
      "C:\\Users\\tanch\\anaconda3\\lib\\site-packages\\pandas\\core\\indexing.py:1676: SettingWithCopyWarning: \n",
      "A value is trying to be set on a copy of a slice from a DataFrame.\n",
      "Try using .loc[row_indexer,col_indexer] = value instead\n",
      "\n",
      "See the caveats in the documentation: https://pandas.pydata.org/pandas-docs/stable/user_guide/indexing.html#returning-a-view-versus-a-copy\n",
      "  self._setitem_single_column(ilocs[0], value, pi)\n"
     ]
    }
   ],
   "source": [
    "POI_df.loc[:,'label'] = POI_df.apply(lambda row:  generate_label(row,\"POI\"), axis = 1)"
   ]
  },
  {
   "cell_type": "code",
   "execution_count": 7,
   "id": "bda5b181",
   "metadata": {},
   "outputs": [
    {
     "name": "stderr",
     "output_type": "stream",
     "text": [
      "C:\\Users\\tanch\\anaconda3\\lib\\site-packages\\pandas\\core\\indexing.py:1597: SettingWithCopyWarning: \n",
      "A value is trying to be set on a copy of a slice from a DataFrame.\n",
      "Try using .loc[row_indexer,col_indexer] = value instead\n",
      "\n",
      "See the caveats in the documentation: https://pandas.pydata.org/pandas-docs/stable/user_guide/indexing.html#returning-a-view-versus-a-copy\n",
      "  self.obj[key] = value\n",
      "C:\\Users\\tanch\\anaconda3\\lib\\site-packages\\pandas\\core\\indexing.py:1676: SettingWithCopyWarning: \n",
      "A value is trying to be set on a copy of a slice from a DataFrame.\n",
      "Try using .loc[row_indexer,col_indexer] = value instead\n",
      "\n",
      "See the caveats in the documentation: https://pandas.pydata.org/pandas-docs/stable/user_guide/indexing.html#returning-a-view-versus-a-copy\n",
      "  self._setitem_single_column(ilocs[0], value, pi)\n"
     ]
    }
   ],
   "source": [
    "street_df.loc[:,'label'] = street_df.apply(lambda row:  generate_label(row,\"street\"), axis = 1)"
   ]
  },
  {
   "cell_type": "code",
   "execution_count": 6,
   "id": "93259925",
   "metadata": {},
   "outputs": [
    {
     "data": {
      "text/html": [
       "<div>\n",
       "<style scoped>\n",
       "    .dataframe tbody tr th:only-of-type {\n",
       "        vertical-align: middle;\n",
       "    }\n",
       "\n",
       "    .dataframe tbody tr th {\n",
       "        vertical-align: top;\n",
       "    }\n",
       "\n",
       "    .dataframe thead th {\n",
       "        text-align: right;\n",
       "    }\n",
       "</style>\n",
       "<table border=\"1\" class=\"dataframe\">\n",
       "  <thead>\n",
       "    <tr style=\"text-align: right;\">\n",
       "      <th></th>\n",
       "      <th>raw_address</th>\n",
       "      <th>POI</th>\n",
       "      <th>label</th>\n",
       "    </tr>\n",
       "    <tr>\n",
       "      <th>id</th>\n",
       "      <th></th>\n",
       "      <th></th>\n",
       "      <th></th>\n",
       "    </tr>\n",
       "  </thead>\n",
       "  <tbody>\n",
       "    <tr>\n",
       "      <th>299995</th>\n",
       "      <td>jend ahmad yani 331 kertasari ciamis</td>\n",
       "      <td></td>\n",
       "      <td>does not exist</td>\n",
       "    </tr>\n",
       "    <tr>\n",
       "      <th>299996</th>\n",
       "      <td>raya cila kko, cilandak timur kel.</td>\n",
       "      <td></td>\n",
       "      <td>does not exist</td>\n",
       "    </tr>\n",
       "    <tr>\n",
       "      <th>299997</th>\n",
       "      <td>tanjung gusta jl. yaya 2 no 17</td>\n",
       "      <td></td>\n",
       "      <td>does not exist</td>\n",
       "    </tr>\n",
       "    <tr>\n",
       "      <th>299998</th>\n",
       "      <td>jalan cipadu jaya taman asri gang bijaksana 3 ...</td>\n",
       "      <td>taman asri</td>\n",
       "      <td>exist</td>\n",
       "    </tr>\n",
       "    <tr>\n",
       "      <th>299999</th>\n",
       "      <td>jaya maspion permata blok beryl b2  no.58</td>\n",
       "      <td>jaya maspion permata</td>\n",
       "      <td>exist</td>\n",
       "    </tr>\n",
       "  </tbody>\n",
       "</table>\n",
       "</div>"
      ],
      "text/plain": [
       "                                              raw_address  \\\n",
       "id                                                          \n",
       "299995               jend ahmad yani 331 kertasari ciamis   \n",
       "299996                 raya cila kko, cilandak timur kel.   \n",
       "299997                     tanjung gusta jl. yaya 2 no 17   \n",
       "299998  jalan cipadu jaya taman asri gang bijaksana 3 ...   \n",
       "299999          jaya maspion permata blok beryl b2  no.58   \n",
       "\n",
       "                         POI           label  \n",
       "id                                            \n",
       "299995                        does not exist  \n",
       "299996                        does not exist  \n",
       "299997                        does not exist  \n",
       "299998            taman asri           exist  \n",
       "299999  jaya maspion permata           exist  "
      ]
     },
     "execution_count": 6,
     "metadata": {},
     "output_type": "execute_result"
    }
   ],
   "source": [
    "POI_df.tail()"
   ]
  },
  {
   "cell_type": "code",
   "execution_count": 8,
   "id": "c648c3cd",
   "metadata": {},
   "outputs": [
    {
     "data": {
      "text/html": [
       "<div>\n",
       "<style scoped>\n",
       "    .dataframe tbody tr th:only-of-type {\n",
       "        vertical-align: middle;\n",
       "    }\n",
       "\n",
       "    .dataframe tbody tr th {\n",
       "        vertical-align: top;\n",
       "    }\n",
       "\n",
       "    .dataframe thead th {\n",
       "        text-align: right;\n",
       "    }\n",
       "</style>\n",
       "<table border=\"1\" class=\"dataframe\">\n",
       "  <thead>\n",
       "    <tr style=\"text-align: right;\">\n",
       "      <th></th>\n",
       "      <th>raw_address</th>\n",
       "      <th>street</th>\n",
       "      <th>label</th>\n",
       "    </tr>\n",
       "    <tr>\n",
       "      <th>id</th>\n",
       "      <th></th>\n",
       "      <th></th>\n",
       "      <th></th>\n",
       "    </tr>\n",
       "  </thead>\n",
       "  <tbody>\n",
       "    <tr>\n",
       "      <th>299995</th>\n",
       "      <td>jend ahmad yani 331 kertasari ciamis</td>\n",
       "      <td>jend ahmad yani</td>\n",
       "      <td>exist</td>\n",
       "    </tr>\n",
       "    <tr>\n",
       "      <th>299996</th>\n",
       "      <td>raya cila kko, cilandak timur kel.</td>\n",
       "      <td>raya cila kko</td>\n",
       "      <td>exist</td>\n",
       "    </tr>\n",
       "    <tr>\n",
       "      <th>299997</th>\n",
       "      <td>tanjung gusta jl. yaya 2 no 17</td>\n",
       "      <td></td>\n",
       "      <td>does not exist</td>\n",
       "    </tr>\n",
       "    <tr>\n",
       "      <th>299998</th>\n",
       "      <td>jalan cipadu jaya taman asri gang bijaksana 3 ...</td>\n",
       "      <td></td>\n",
       "      <td>does not exist</td>\n",
       "    </tr>\n",
       "    <tr>\n",
       "      <th>299999</th>\n",
       "      <td>jaya maspion permata blok beryl b2  no.58</td>\n",
       "      <td></td>\n",
       "      <td>does not exist</td>\n",
       "    </tr>\n",
       "  </tbody>\n",
       "</table>\n",
       "</div>"
      ],
      "text/plain": [
       "                                              raw_address           street  \\\n",
       "id                                                                           \n",
       "299995               jend ahmad yani 331 kertasari ciamis  jend ahmad yani   \n",
       "299996                 raya cila kko, cilandak timur kel.    raya cila kko   \n",
       "299997                     tanjung gusta jl. yaya 2 no 17                    \n",
       "299998  jalan cipadu jaya taman asri gang bijaksana 3 ...                    \n",
       "299999          jaya maspion permata blok beryl b2  no.58                    \n",
       "\n",
       "                 label  \n",
       "id                      \n",
       "299995           exist  \n",
       "299996           exist  \n",
       "299997  does not exist  \n",
       "299998  does not exist  \n",
       "299999  does not exist  "
      ]
     },
     "execution_count": 8,
     "metadata": {},
     "output_type": "execute_result"
    }
   ],
   "source": [
    "street_df.tail()"
   ]
  },
  {
   "cell_type": "markdown",
   "id": "04bfc94f",
   "metadata": {},
   "source": [
    "## Export dataset for text classification\n",
    "- the purpose of this dataset is to train two models\n",
    "    - one predicts whether POI exists\n",
    "    - another predicts whether street exists"
   ]
  },
  {
   "cell_type": "code",
   "execution_count": 9,
   "id": "21b705c0",
   "metadata": {},
   "outputs": [
    {
     "data": {
      "text/plain": [
       "DatasetDict({\n",
       "    train: Dataset({\n",
       "        features: ['raw_address', 'label', 'POI', 'id'],\n",
       "        num_rows: 285000\n",
       "    })\n",
       "    test: Dataset({\n",
       "        features: ['raw_address', 'label', 'POI', 'id'],\n",
       "        num_rows: 15000\n",
       "    })\n",
       "})"
      ]
     },
     "execution_count": 9,
     "metadata": {},
     "output_type": "execute_result"
    }
   ],
   "source": [
    "from datasets import Dataset\n",
    "output_Dataset = Dataset.from_pandas(POI_df[['raw_address', 'label', \"POI\"]])\n",
    "from datasets import DatasetDict\n",
    "output_Dataset = output_Dataset.train_test_split(test_size = 0.05)\n",
    "output_Dataset"
   ]
  },
  {
   "cell_type": "code",
   "execution_count": 10,
   "id": "fa6bde01",
   "metadata": {},
   "outputs": [],
   "source": [
    "output_Dataset.save_to_disk(r\"C:\\Users\\tanch\\Documents\\Coding Competitions\\Shopee\\Comp 2 address elements extraction\\datasets\\POI existence cls dataset\")"
   ]
  },
  {
   "cell_type": "code",
   "execution_count": 11,
   "id": "1a091d02",
   "metadata": {},
   "outputs": [
    {
     "data": {
      "text/plain": [
       "DatasetDict({\n",
       "    train: Dataset({\n",
       "        features: ['raw_address', 'label', 'street', 'id'],\n",
       "        num_rows: 285000\n",
       "    })\n",
       "    test: Dataset({\n",
       "        features: ['raw_address', 'label', 'street', 'id'],\n",
       "        num_rows: 15000\n",
       "    })\n",
       "})"
      ]
     },
     "execution_count": 11,
     "metadata": {},
     "output_type": "execute_result"
    }
   ],
   "source": [
    "from datasets import Dataset\n",
    "output_Dataset = Dataset.from_pandas(street_df[['raw_address', 'label',\"street\"]])\n",
    "from datasets import DatasetDict\n",
    "output_Dataset = output_Dataset.train_test_split(test_size = 0.05)\n",
    "output_Dataset"
   ]
  },
  {
   "cell_type": "code",
   "execution_count": 12,
   "id": "1df85dd2",
   "metadata": {},
   "outputs": [],
   "source": [
    "output_Dataset.save_to_disk(r\"C:\\Users\\tanch\\Documents\\Coding Competitions\\Shopee\\Comp 2 address elements extraction\\datasets\\street existence cls dataset\")"
   ]
  },
  {
   "cell_type": "code",
   "execution_count": null,
   "id": "645c32ca",
   "metadata": {},
   "outputs": [],
   "source": []
  },
  {
   "cell_type": "code",
   "execution_count": null,
   "id": "fa32759f",
   "metadata": {},
   "outputs": [],
   "source": []
  },
  {
   "cell_type": "code",
   "execution_count": null,
   "id": "4cbe7d76",
   "metadata": {},
   "outputs": [],
   "source": []
  },
  {
   "cell_type": "code",
   "execution_count": 15,
   "id": "e7057b61",
   "metadata": {},
   "outputs": [
    {
     "data": {
      "text/plain": [
       "exist             229857\n",
       "does not exist     70143\n",
       "Name: label, dtype: int64"
      ]
     },
     "execution_count": 15,
     "metadata": {},
     "output_type": "execute_result"
    }
   ],
   "source": [
    "street_df.label.value_counts()"
   ]
  },
  {
   "cell_type": "code",
   "execution_count": 16,
   "id": "a1f60ac1",
   "metadata": {},
   "outputs": [
    {
     "data": {
      "text/plain": [
       "does not exist    178509\n",
       "exist             121491\n",
       "Name: label, dtype: int64"
      ]
     },
     "execution_count": 16,
     "metadata": {},
     "output_type": "execute_result"
    }
   ],
   "source": [
    "POI_df.label.value_counts()"
   ]
  }
 ],
 "metadata": {
  "kernelspec": {
   "display_name": "Python 3",
   "language": "python",
   "name": "python3"
  },
  "language_info": {
   "codemirror_mode": {
    "name": "ipython",
    "version": 3
   },
   "file_extension": ".py",
   "mimetype": "text/x-python",
   "name": "python",
   "nbconvert_exporter": "python",
   "pygments_lexer": "ipython3",
   "version": "3.8.3"
  }
 },
 "nbformat": 4,
 "nbformat_minor": 5
}
