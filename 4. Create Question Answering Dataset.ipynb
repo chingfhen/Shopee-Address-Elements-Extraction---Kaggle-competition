{
 "cells": [
  {
   "cell_type": "markdown",
   "id": "24eb6981",
   "metadata": {},
   "source": [
    "# ABOUT:\n",
    "- we create a question answering dataset \n",
    "- given the address \"toko dita, kertosono\" the dataset shouild train a question answering model to predict \"toko dita\" answer span"
   ]
  },
  {
   "cell_type": "code",
   "execution_count": 1,
   "id": "96e1f9f7",
   "metadata": {
    "scrolled": true
   },
   "outputs": [
    {
     "data": {
      "text/html": [
       "<div>\n",
       "<style scoped>\n",
       "    .dataframe tbody tr th:only-of-type {\n",
       "        vertical-align: middle;\n",
       "    }\n",
       "\n",
       "    .dataframe tbody tr th {\n",
       "        vertical-align: top;\n",
       "    }\n",
       "\n",
       "    .dataframe thead th {\n",
       "        text-align: right;\n",
       "    }\n",
       "</style>\n",
       "<table border=\"1\" class=\"dataframe\">\n",
       "  <thead>\n",
       "    <tr style=\"text-align: right;\">\n",
       "      <th></th>\n",
       "      <th>raw_address</th>\n",
       "      <th>POI</th>\n",
       "      <th>street</th>\n",
       "    </tr>\n",
       "    <tr>\n",
       "      <th>id</th>\n",
       "      <th></th>\n",
       "      <th></th>\n",
       "      <th></th>\n",
       "    </tr>\n",
       "  </thead>\n",
       "  <tbody>\n",
       "    <tr>\n",
       "      <th>0</th>\n",
       "      <td>jl kapuk timur delta sili iii lippo cika 11 a ...</td>\n",
       "      <td></td>\n",
       "      <td>jl kapuk timur delta sili iii lippo cika</td>\n",
       "    </tr>\n",
       "    <tr>\n",
       "      <th>1</th>\n",
       "      <td>aye, jati sampurna</td>\n",
       "      <td></td>\n",
       "      <td></td>\n",
       "    </tr>\n",
       "    <tr>\n",
       "      <th>2</th>\n",
       "      <td>setu siung 119 rt 5 1 13880 cipayung</td>\n",
       "      <td></td>\n",
       "      <td>siung</td>\n",
       "    </tr>\n",
       "    <tr>\n",
       "      <th>3</th>\n",
       "      <td>toko dita, kertosono</td>\n",
       "      <td>toko dita</td>\n",
       "      <td></td>\n",
       "    </tr>\n",
       "    <tr>\n",
       "      <th>4</th>\n",
       "      <td>jl. orde baru</td>\n",
       "      <td></td>\n",
       "      <td>jl. orde baru</td>\n",
       "    </tr>\n",
       "    <tr>\n",
       "      <th>...</th>\n",
       "      <td>...</td>\n",
       "      <td>...</td>\n",
       "      <td>...</td>\n",
       "    </tr>\n",
       "    <tr>\n",
       "      <th>299995</th>\n",
       "      <td>jend ahmad yani 331 kertasari ciamis</td>\n",
       "      <td></td>\n",
       "      <td>jend ahmad yani</td>\n",
       "    </tr>\n",
       "    <tr>\n",
       "      <th>299996</th>\n",
       "      <td>raya cila kko, cilandak timur kel.</td>\n",
       "      <td></td>\n",
       "      <td>raya cila kko</td>\n",
       "    </tr>\n",
       "    <tr>\n",
       "      <th>299997</th>\n",
       "      <td>tanjung gusta jl. yaya 2 no 17</td>\n",
       "      <td></td>\n",
       "      <td></td>\n",
       "    </tr>\n",
       "    <tr>\n",
       "      <th>299998</th>\n",
       "      <td>jalan cipadu jaya taman asri gang bijaksana 3 ...</td>\n",
       "      <td>taman asri</td>\n",
       "      <td></td>\n",
       "    </tr>\n",
       "    <tr>\n",
       "      <th>299999</th>\n",
       "      <td>jaya maspion permata blok beryl b2  no.58</td>\n",
       "      <td>jaya maspion permata</td>\n",
       "      <td></td>\n",
       "    </tr>\n",
       "  </tbody>\n",
       "</table>\n",
       "<p>300000 rows × 3 columns</p>\n",
       "</div>"
      ],
      "text/plain": [
       "                                              raw_address  \\\n",
       "id                                                          \n",
       "0       jl kapuk timur delta sili iii lippo cika 11 a ...   \n",
       "1                                      aye, jati sampurna   \n",
       "2                    setu siung 119 rt 5 1 13880 cipayung   \n",
       "3                                    toko dita, kertosono   \n",
       "4                                           jl. orde baru   \n",
       "...                                                   ...   \n",
       "299995               jend ahmad yani 331 kertasari ciamis   \n",
       "299996                 raya cila kko, cilandak timur kel.   \n",
       "299997                     tanjung gusta jl. yaya 2 no 17   \n",
       "299998  jalan cipadu jaya taman asri gang bijaksana 3 ...   \n",
       "299999          jaya maspion permata blok beryl b2  no.58   \n",
       "\n",
       "                         POI                                    street  \n",
       "id                                                                      \n",
       "0                             jl kapuk timur delta sili iii lippo cika  \n",
       "1                                                                       \n",
       "2                                                                siung  \n",
       "3                  toko dita                                            \n",
       "4                                                        jl. orde baru  \n",
       "...                      ...                                       ...  \n",
       "299995                                                 jend ahmad yani  \n",
       "299996                                                   raya cila kko  \n",
       "299997                                                                  \n",
       "299998            taman asri                                            \n",
       "299999  jaya maspion permata                                            \n",
       "\n",
       "[300000 rows x 3 columns]"
      ]
     },
     "execution_count": 1,
     "metadata": {},
     "output_type": "execute_result"
    }
   ],
   "source": [
    "import pandas as pd\n",
    "df = pd.read_csv(r\"C:\\Users\\tanch\\Documents\\Coding Competitions\\Shopee\\Shopee Address Elements Extraction (local)\\datasets\\train.csv\\train.csv\",index_col = 'id')\n",
    "df[['POI', 'street']] = df['POI/street'].str.split('/', expand=True)\n",
    "df = df.drop([\"POI/street\"],axis=1)\n",
    "df"
   ]
  },
  {
   "cell_type": "code",
   "execution_count": 2,
   "id": "b821b040",
   "metadata": {},
   "outputs": [],
   "source": [
    "max_length = 50"
   ]
  },
  {
   "cell_type": "markdown",
   "id": "7654d46e",
   "metadata": {},
   "source": [
    "## SQUAD format\n",
    "- **answer_start** refers to the character level position of the answer to the question \n",
    "    - take note that contexts can have multiple answers in other datasets\n",
    "    - we can assume out shopee dataset only has 1 answer_start in the context\n",
    "- **context** refers to the raw_address in our case\n",
    "- **question** - we will have two questions:\n",
    "    - what's the point of interest? == apa gunanya minat?\n",
    "    - What is the name of the street? == Siapa nama jalannya?\n",
    "- **text** refers to the answer to the question"
   ]
  },
  {
   "cell_type": "code",
   "execution_count": 3,
   "id": "d99367f2",
   "metadata": {},
   "outputs": [],
   "source": [
    "squad_sample = {'answers': {'answer_start': [515], 'text': ['Saint Bernadette Soubirous']},\n",
    " 'context': 'Architecturally, the school has a Catholic character. Atop the Main Building\\'s gold dome is a golden statue of the Virgin Mary. Immediately in front of the Main Building and facing it, is a copper statue of Christ with arms upraised with the legend \"Venite Ad Me Omnes\". Next to the Main Building is the Basilica of the Sacred Heart. Immediately behind the basilica is the Grotto, a Marian place of prayer and reflection. It is a replica of the grotto at Lourdes, France where the Virgin Mary reputedly appeared to Saint Bernadette Soubirous in 1858. At the end of the main drive (and in a direct line that connects through 3 statues and the Gold Dome), is a simple, modern stone statue of Mary.',\n",
    " 'id': '5733be284776f41900661182',\n",
    " 'question': 'To whom did the Virgin Mary allegedly appear in 1858 in Lourdes France?',\n",
    " 'title': 'University_of_Notre_Dame'}"
   ]
  },
  {
   "cell_type": "code",
   "execution_count": 4,
   "id": "3a368fa8",
   "metadata": {},
   "outputs": [
    {
     "data": {
      "text/plain": [
       "515"
      ]
     },
     "execution_count": 4,
     "metadata": {},
     "output_type": "execute_result"
    }
   ],
   "source": [
    "squad_sample['context'].find(squad_sample['answers']['text'][0])"
   ]
  },
  {
   "cell_type": "markdown",
   "id": "4c1ccb81",
   "metadata": {},
   "source": [
    "- (above) we can see that the answer_start is indeed character level position of the answer to the question"
   ]
  },
  {
   "cell_type": "markdown",
   "id": "cacdcbe2",
   "metadata": {},
   "source": [
    "## Create POI dataset"
   ]
  },
  {
   "cell_type": "code",
   "execution_count": 5,
   "id": "2b0c3308",
   "metadata": {},
   "outputs": [],
   "source": [
    "poiQuestion = 'apa gunanya minat?'"
   ]
  },
  {
   "cell_type": "code",
   "execution_count": 6,
   "id": "9d81a012",
   "metadata": {},
   "outputs": [],
   "source": [
    "def create_temp_df(dataframe, target_colname):\n",
    "    dataframe = dataframe[dataframe[target_colname]!=\"\"]\n",
    "    dataframe = dataframe[dataframe.apply(lambda row: row[target_colname] in row['raw_address'],axis=1)]\n",
    "    return dataframe"
   ]
  },
  {
   "cell_type": "code",
   "execution_count": 7,
   "id": "73a2d76a",
   "metadata": {},
   "outputs": [
    {
     "data": {
      "text/html": [
       "<div>\n",
       "<style scoped>\n",
       "    .dataframe tbody tr th:only-of-type {\n",
       "        vertical-align: middle;\n",
       "    }\n",
       "\n",
       "    .dataframe tbody tr th {\n",
       "        vertical-align: top;\n",
       "    }\n",
       "\n",
       "    .dataframe thead th {\n",
       "        text-align: right;\n",
       "    }\n",
       "</style>\n",
       "<table border=\"1\" class=\"dataframe\">\n",
       "  <thead>\n",
       "    <tr style=\"text-align: right;\">\n",
       "      <th></th>\n",
       "      <th>raw_address</th>\n",
       "      <th>POI</th>\n",
       "      <th>street</th>\n",
       "    </tr>\n",
       "    <tr>\n",
       "      <th>id</th>\n",
       "      <th></th>\n",
       "      <th></th>\n",
       "      <th></th>\n",
       "    </tr>\n",
       "  </thead>\n",
       "  <tbody>\n",
       "    <tr>\n",
       "      <th>3</th>\n",
       "      <td>toko dita, kertosono</td>\n",
       "      <td>toko dita</td>\n",
       "      <td></td>\n",
       "    </tr>\n",
       "    <tr>\n",
       "      <th>5</th>\n",
       "      <td>raya samb gede, 299 toko bb kids</td>\n",
       "      <td>toko bb kids</td>\n",
       "      <td>raya samb gede</td>\n",
       "    </tr>\n",
       "    <tr>\n",
       "      <th>15</th>\n",
       "      <td>kampung.gudang areng,desa:anyer, kecamatan:any...</td>\n",
       "      <td>gudang areng</td>\n",
       "      <td></td>\n",
       "    </tr>\n",
       "    <tr>\n",
       "      <th>17</th>\n",
       "      <td>pangkalan lareh kel.ikurkoto koto panjang.kec ...</td>\n",
       "      <td>pangkalan lareh</td>\n",
       "      <td></td>\n",
       "    </tr>\n",
       "    <tr>\n",
       "      <th>21</th>\n",
       "      <td>stadion kobelete,</td>\n",
       "      <td>stadion kobelete</td>\n",
       "      <td></td>\n",
       "    </tr>\n",
       "  </tbody>\n",
       "</table>\n",
       "</div>"
      ],
      "text/plain": [
       "                                          raw_address               POI  \\\n",
       "id                                                                        \n",
       "3                                toko dita, kertosono         toko dita   \n",
       "5                    raya samb gede, 299 toko bb kids      toko bb kids   \n",
       "15  kampung.gudang areng,desa:anyer, kecamatan:any...      gudang areng   \n",
       "17  pangkalan lareh kel.ikurkoto koto panjang.kec ...   pangkalan lareh   \n",
       "21                                  stadion kobelete,  stadion kobelete   \n",
       "\n",
       "            street  \n",
       "id                  \n",
       "3                   \n",
       "5   raya samb gede  \n",
       "15                  \n",
       "17                  \n",
       "21                  "
      ]
     },
     "execution_count": 7,
     "metadata": {},
     "output_type": "execute_result"
    }
   ],
   "source": [
    "temp_df = create_temp_df(df,\"POI\")\n",
    "temp_df.head()"
   ]
  },
  {
   "cell_type": "markdown",
   "id": "70f66aca",
   "metadata": {},
   "source": [
    "- (above) we don't want answers that are empty\n",
    "- we also don't want rows that have abbreviated answers"
   ]
  },
  {
   "cell_type": "code",
   "execution_count": 8,
   "id": "758e0d7e",
   "metadata": {},
   "outputs": [],
   "source": [
    "def get_answers_dict(row):\n",
    "    answer_start = row['raw_address'].find(row['POI'])\n",
    "    return {'answer_start': [answer_start], 'text': [row['POI']]}"
   ]
  },
  {
   "cell_type": "code",
   "execution_count": 9,
   "id": "8a0d6d0e",
   "metadata": {},
   "outputs": [],
   "source": [
    "answers_column = temp_df.apply(lambda row: get_answers_dict(row),axis=1)"
   ]
  },
  {
   "cell_type": "code",
   "execution_count": 10,
   "id": "50b77fd0",
   "metadata": {},
   "outputs": [
    {
     "data": {
      "text/html": [
       "<div>\n",
       "<style scoped>\n",
       "    .dataframe tbody tr th:only-of-type {\n",
       "        vertical-align: middle;\n",
       "    }\n",
       "\n",
       "    .dataframe tbody tr th {\n",
       "        vertical-align: top;\n",
       "    }\n",
       "\n",
       "    .dataframe thead th {\n",
       "        text-align: right;\n",
       "    }\n",
       "</style>\n",
       "<table border=\"1\" class=\"dataframe\">\n",
       "  <thead>\n",
       "    <tr style=\"text-align: right;\">\n",
       "      <th></th>\n",
       "      <th>answers</th>\n",
       "      <th>context</th>\n",
       "      <th>question</th>\n",
       "    </tr>\n",
       "    <tr>\n",
       "      <th>id</th>\n",
       "      <th></th>\n",
       "      <th></th>\n",
       "      <th></th>\n",
       "    </tr>\n",
       "  </thead>\n",
       "  <tbody>\n",
       "    <tr>\n",
       "      <th>223077</th>\n",
       "      <td>{'answer_start': [6], 'text': ['selep wangi']}</td>\n",
       "      <td>kali, selep wangi, kedungwungu</td>\n",
       "      <td>apa gunanya minat?</td>\n",
       "    </tr>\n",
       "    <tr>\n",
       "      <th>289004</th>\n",
       "      <td>{'answer_start': [0], 'text': ['pom mini']}</td>\n",
       "      <td>pom mini gabus raya, bekasi selatan</td>\n",
       "      <td>apa gunanya minat?</td>\n",
       "    </tr>\n",
       "    <tr>\n",
       "      <th>33555</th>\n",
       "      <td>{'answer_start': [13], 'text': ['batam center']}</td>\n",
       "      <td>teluk tering batam center, ahm ya batam kota</td>\n",
       "      <td>apa gunanya minat?</td>\n",
       "    </tr>\n",
       "    <tr>\n",
       "      <th>225899</th>\n",
       "      <td>{'answer_start': [0], 'text': ['jaya service']}</td>\n",
       "      <td>jaya service,</td>\n",
       "      <td>apa gunanya minat?</td>\n",
       "    </tr>\n",
       "    <tr>\n",
       "      <th>214827</th>\n",
       "      <td>{'answer_start': [0], 'text': ['toko gopar']}</td>\n",
       "      <td>toko gopar baros</td>\n",
       "      <td>apa gunanya minat?</td>\n",
       "    </tr>\n",
       "    <tr>\n",
       "      <th>268175</th>\n",
       "      <td>{'answer_start': [0], 'text': ['kfc']}</td>\n",
       "      <td>kfc, cile raya, a 97</td>\n",
       "      <td>apa gunanya minat?</td>\n",
       "    </tr>\n",
       "    <tr>\n",
       "      <th>245089</th>\n",
       "      <td>{'answer_start': [0], 'text': ['sunset ave ap3']}</td>\n",
       "      <td>sunset ave ap3, jl. grand wisata no.32, lamban...</td>\n",
       "      <td>apa gunanya minat?</td>\n",
       "    </tr>\n",
       "    <tr>\n",
       "      <th>211222</th>\n",
       "      <td>{'answer_start': [17], 'text': ['toko apollo']}</td>\n",
       "      <td>purwokerto kulon toko apollo, may d i panja, n...</td>\n",
       "      <td>apa gunanya minat?</td>\n",
       "    </tr>\n",
       "    <tr>\n",
       "      <th>261126</th>\n",
       "      <td>{'answer_start': [14], 'text': ['balines cellu...</td>\n",
       "      <td>ling sela, 67 balines cellular,</td>\n",
       "      <td>apa gunanya minat?</td>\n",
       "    </tr>\n",
       "    <tr>\n",
       "      <th>204918</th>\n",
       "      <td>{'answer_start': [0], 'text': ['toko cat duko']}</td>\n",
       "      <td>toko cat duko, pasundan,</td>\n",
       "      <td>apa gunanya minat?</td>\n",
       "    </tr>\n",
       "  </tbody>\n",
       "</table>\n",
       "</div>"
      ],
      "text/plain": [
       "                                                  answers  \\\n",
       "id                                                          \n",
       "223077     {'answer_start': [6], 'text': ['selep wangi']}   \n",
       "289004        {'answer_start': [0], 'text': ['pom mini']}   \n",
       "33555    {'answer_start': [13], 'text': ['batam center']}   \n",
       "225899    {'answer_start': [0], 'text': ['jaya service']}   \n",
       "214827      {'answer_start': [0], 'text': ['toko gopar']}   \n",
       "268175             {'answer_start': [0], 'text': ['kfc']}   \n",
       "245089  {'answer_start': [0], 'text': ['sunset ave ap3']}   \n",
       "211222    {'answer_start': [17], 'text': ['toko apollo']}   \n",
       "261126  {'answer_start': [14], 'text': ['balines cellu...   \n",
       "204918   {'answer_start': [0], 'text': ['toko cat duko']}   \n",
       "\n",
       "                                                  context            question  \n",
       "id                                                                             \n",
       "223077                     kali, selep wangi, kedungwungu  apa gunanya minat?  \n",
       "289004                pom mini gabus raya, bekasi selatan  apa gunanya minat?  \n",
       "33555        teluk tering batam center, ahm ya batam kota  apa gunanya minat?  \n",
       "225899                                      jaya service,  apa gunanya minat?  \n",
       "214827                                   toko gopar baros  apa gunanya minat?  \n",
       "268175                               kfc, cile raya, a 97  apa gunanya minat?  \n",
       "245089  sunset ave ap3, jl. grand wisata no.32, lamban...  apa gunanya minat?  \n",
       "211222  purwokerto kulon toko apollo, may d i panja, n...  apa gunanya minat?  \n",
       "261126                    ling sela, 67 balines cellular,  apa gunanya minat?  \n",
       "204918                           toko cat duko, pasundan,  apa gunanya minat?  "
      ]
     },
     "execution_count": 10,
     "metadata": {},
     "output_type": "execute_result"
    }
   ],
   "source": [
    "POI_df = pd.DataFrame({\"answers\":answers_column,\n",
    "                      \"context\":temp_df.raw_address,\n",
    "                      \"question\":poiQuestion})\n",
    "POI_df.sample(10)"
   ]
  },
  {
   "cell_type": "markdown",
   "id": "61520f64",
   "metadata": {},
   "source": [
    "## Create street name dataset"
   ]
  },
  {
   "cell_type": "code",
   "execution_count": 11,
   "id": "0c6ebd76",
   "metadata": {},
   "outputs": [],
   "source": [
    "streetQuestion = 'Siapa nama jalannya?'"
   ]
  },
  {
   "cell_type": "code",
   "execution_count": 12,
   "id": "25b9afb6",
   "metadata": {},
   "outputs": [
    {
     "data": {
      "text/html": [
       "<div>\n",
       "<style scoped>\n",
       "    .dataframe tbody tr th:only-of-type {\n",
       "        vertical-align: middle;\n",
       "    }\n",
       "\n",
       "    .dataframe tbody tr th {\n",
       "        vertical-align: top;\n",
       "    }\n",
       "\n",
       "    .dataframe thead th {\n",
       "        text-align: right;\n",
       "    }\n",
       "</style>\n",
       "<table border=\"1\" class=\"dataframe\">\n",
       "  <thead>\n",
       "    <tr style=\"text-align: right;\">\n",
       "      <th></th>\n",
       "      <th>raw_address</th>\n",
       "      <th>POI</th>\n",
       "      <th>street</th>\n",
       "    </tr>\n",
       "    <tr>\n",
       "      <th>id</th>\n",
       "      <th></th>\n",
       "      <th></th>\n",
       "      <th></th>\n",
       "    </tr>\n",
       "  </thead>\n",
       "  <tbody>\n",
       "    <tr>\n",
       "      <th>0</th>\n",
       "      <td>jl kapuk timur delta sili iii lippo cika 11 a ...</td>\n",
       "      <td></td>\n",
       "      <td>jl kapuk timur delta sili iii lippo cika</td>\n",
       "    </tr>\n",
       "    <tr>\n",
       "      <th>2</th>\n",
       "      <td>setu siung 119 rt 5 1 13880 cipayung</td>\n",
       "      <td></td>\n",
       "      <td>siung</td>\n",
       "    </tr>\n",
       "    <tr>\n",
       "      <th>4</th>\n",
       "      <td>jl. orde baru</td>\n",
       "      <td></td>\n",
       "      <td>jl. orde baru</td>\n",
       "    </tr>\n",
       "    <tr>\n",
       "      <th>5</th>\n",
       "      <td>raya samb gede, 299 toko bb kids</td>\n",
       "      <td>toko bb kids</td>\n",
       "      <td>raya samb gede</td>\n",
       "    </tr>\n",
       "    <tr>\n",
       "      <th>6</th>\n",
       "      <td>kem mel raya, no 4 bojong rawalumbu rt 1 36 ra...</td>\n",
       "      <td></td>\n",
       "      <td>kem mel raya</td>\n",
       "    </tr>\n",
       "  </tbody>\n",
       "</table>\n",
       "</div>"
      ],
      "text/plain": [
       "                                          raw_address           POI  \\\n",
       "id                                                                    \n",
       "0   jl kapuk timur delta sili iii lippo cika 11 a ...                 \n",
       "2                setu siung 119 rt 5 1 13880 cipayung                 \n",
       "4                                       jl. orde baru                 \n",
       "5                    raya samb gede, 299 toko bb kids  toko bb kids   \n",
       "6   kem mel raya, no 4 bojong rawalumbu rt 1 36 ra...                 \n",
       "\n",
       "                                      street  \n",
       "id                                            \n",
       "0   jl kapuk timur delta sili iii lippo cika  \n",
       "2                                      siung  \n",
       "4                              jl. orde baru  \n",
       "5                             raya samb gede  \n",
       "6                               kem mel raya  "
      ]
     },
     "execution_count": 12,
     "metadata": {},
     "output_type": "execute_result"
    }
   ],
   "source": [
    "temp_df = create_temp_df(df,\"street\")\n",
    "temp_df.head()"
   ]
  },
  {
   "cell_type": "markdown",
   "id": "8f6431e8",
   "metadata": {},
   "source": [
    "- (above) we don't want answers that are empty\n",
    "- we also don't want rows that have abbreviated answers"
   ]
  },
  {
   "cell_type": "code",
   "execution_count": 13,
   "id": "f50cdd66",
   "metadata": {},
   "outputs": [],
   "source": [
    "def get_answers_dict(row):\n",
    "    answer_start = row['raw_address'].find(row['street'])\n",
    "    return {'answer_start': [answer_start], 'text': [row['street']]}"
   ]
  },
  {
   "cell_type": "code",
   "execution_count": 14,
   "id": "3efd365d",
   "metadata": {},
   "outputs": [],
   "source": [
    "answers_column = temp_df.apply(lambda row: get_answers_dict(row),axis=1)"
   ]
  },
  {
   "cell_type": "code",
   "execution_count": 15,
   "id": "e96403b3",
   "metadata": {},
   "outputs": [
    {
     "data": {
      "text/html": [
       "<div>\n",
       "<style scoped>\n",
       "    .dataframe tbody tr th:only-of-type {\n",
       "        vertical-align: middle;\n",
       "    }\n",
       "\n",
       "    .dataframe tbody tr th {\n",
       "        vertical-align: top;\n",
       "    }\n",
       "\n",
       "    .dataframe thead th {\n",
       "        text-align: right;\n",
       "    }\n",
       "</style>\n",
       "<table border=\"1\" class=\"dataframe\">\n",
       "  <thead>\n",
       "    <tr style=\"text-align: right;\">\n",
       "      <th></th>\n",
       "      <th>answers</th>\n",
       "      <th>context</th>\n",
       "      <th>question</th>\n",
       "    </tr>\n",
       "    <tr>\n",
       "      <th>id</th>\n",
       "      <th></th>\n",
       "      <th></th>\n",
       "      <th></th>\n",
       "    </tr>\n",
       "  </thead>\n",
       "  <tbody>\n",
       "    <tr>\n",
       "      <th>232209</th>\n",
       "      <td>{'answer_start': [9], 'text': ['pahl ser']}</td>\n",
       "      <td>jm cell, pahl ser,</td>\n",
       "      <td>Siapa nama jalannya?</td>\n",
       "    </tr>\n",
       "    <tr>\n",
       "      <th>277310</th>\n",
       "      <td>{'answer_start': [5], 'text': ['belim ivc']}</td>\n",
       "      <td>wage belim ivc 130 61257 taman</td>\n",
       "      <td>Siapa nama jalannya?</td>\n",
       "    </tr>\n",
       "    <tr>\n",
       "      <th>73261</th>\n",
       "      <td>{'answer_start': [10], 'text': ['kup jaya']}</td>\n",
       "      <td>simomulyo kup jaya 92 3 60189 sukomanunggal</td>\n",
       "      <td>Siapa nama jalannya?</td>\n",
       "    </tr>\n",
       "    <tr>\n",
       "      <th>150045</th>\n",
       "      <td>{'answer_start': [10], 'text': ['pejag']}</td>\n",
       "      <td>gun pasi, pejag, mangga dua selatan</td>\n",
       "      <td>Siapa nama jalannya?</td>\n",
       "    </tr>\n",
       "    <tr>\n",
       "      <th>137273</th>\n",
       "      <td>{'answer_start': [21], 'text': ['perum bumi ra...</td>\n",
       "      <td>muti bani sarfan cv, perum bumi rak asri cilegon</td>\n",
       "      <td>Siapa nama jalannya?</td>\n",
       "    </tr>\n",
       "    <tr>\n",
       "      <th>262798</th>\n",
       "      <td>{'answer_start': [0], 'text': ['mur']}</td>\n",
       "      <td>mur</td>\n",
       "      <td>Siapa nama jalannya?</td>\n",
       "    </tr>\n",
       "    <tr>\n",
       "      <th>210726</th>\n",
       "      <td>{'answer_start': [0], 'text': ['jl. lin timur']}</td>\n",
       "      <td>jl. lin timur 36554 sekernan</td>\n",
       "      <td>Siapa nama jalannya?</td>\n",
       "    </tr>\n",
       "    <tr>\n",
       "      <th>103017</th>\n",
       "      <td>{'answer_start': [0], 'text': ['yos suda']}</td>\n",
       "      <td>yos suda sumbawa</td>\n",
       "      <td>Siapa nama jalannya?</td>\n",
       "    </tr>\n",
       "    <tr>\n",
       "      <th>225190</th>\n",
       "      <td>{'answer_start': [0], 'text': ['(de sd haur gg...</td>\n",
       "      <td>(de sd haur gg. ii lebakgede coblong</td>\n",
       "      <td>Siapa nama jalannya?</td>\n",
       "    </tr>\n",
       "    <tr>\n",
       "      <th>286347</th>\n",
       "      <td>{'answer_start': [10], 'text': ['jln ekad putr...</td>\n",
       "      <td>neglasari jln ekad putra banjar</td>\n",
       "      <td>Siapa nama jalannya?</td>\n",
       "    </tr>\n",
       "  </tbody>\n",
       "</table>\n",
       "</div>"
      ],
      "text/plain": [
       "                                                  answers  \\\n",
       "id                                                          \n",
       "232209        {'answer_start': [9], 'text': ['pahl ser']}   \n",
       "277310       {'answer_start': [5], 'text': ['belim ivc']}   \n",
       "73261        {'answer_start': [10], 'text': ['kup jaya']}   \n",
       "150045          {'answer_start': [10], 'text': ['pejag']}   \n",
       "137273  {'answer_start': [21], 'text': ['perum bumi ra...   \n",
       "262798             {'answer_start': [0], 'text': ['mur']}   \n",
       "210726   {'answer_start': [0], 'text': ['jl. lin timur']}   \n",
       "103017        {'answer_start': [0], 'text': ['yos suda']}   \n",
       "225190  {'answer_start': [0], 'text': ['(de sd haur gg...   \n",
       "286347  {'answer_start': [10], 'text': ['jln ekad putr...   \n",
       "\n",
       "                                                 context              question  \n",
       "id                                                                              \n",
       "232209                                jm cell, pahl ser,  Siapa nama jalannya?  \n",
       "277310                    wage belim ivc 130 61257 taman  Siapa nama jalannya?  \n",
       "73261        simomulyo kup jaya 92 3 60189 sukomanunggal  Siapa nama jalannya?  \n",
       "150045               gun pasi, pejag, mangga dua selatan  Siapa nama jalannya?  \n",
       "137273  muti bani sarfan cv, perum bumi rak asri cilegon  Siapa nama jalannya?  \n",
       "262798                                               mur  Siapa nama jalannya?  \n",
       "210726                      jl. lin timur 36554 sekernan  Siapa nama jalannya?  \n",
       "103017                                  yos suda sumbawa  Siapa nama jalannya?  \n",
       "225190              (de sd haur gg. ii lebakgede coblong  Siapa nama jalannya?  \n",
       "286347                   neglasari jln ekad putra banjar  Siapa nama jalannya?  "
      ]
     },
     "execution_count": 15,
     "metadata": {},
     "output_type": "execute_result"
    }
   ],
   "source": [
    "street_df = pd.DataFrame({\"answers\":answers_column,\n",
    "                      \"context\":temp_df.raw_address,\n",
    "                      \"question\":streetQuestion})\n",
    "street_df.sample(10)"
   ]
  },
  {
   "cell_type": "code",
   "execution_count": 16,
   "id": "968a767e",
   "metadata": {},
   "outputs": [
    {
     "data": {
      "text/plain": [
       "(212470, 75351)"
      ]
     },
     "execution_count": 16,
     "metadata": {},
     "output_type": "execute_result"
    }
   ],
   "source": [
    "len(street_df),len(POI_df)"
   ]
  },
  {
   "cell_type": "markdown",
   "id": "0cd3cc88",
   "metadata": {},
   "source": [
    "## final shopee dataset in SQUAD format\n",
    "- the dataset only has two types of questions:\n",
    "    1. apa gunanya minat?\n",
    "    2. Siapa nama jalannya? \n",
    "       - these questions ask \" what is the street name?\" and \"what is the Point of interest?\""
   ]
  },
  {
   "cell_type": "code",
   "execution_count": 17,
   "id": "42b4340b",
   "metadata": {
    "scrolled": true
   },
   "outputs": [
    {
     "data": {
      "text/html": [
       "<div>\n",
       "<style scoped>\n",
       "    .dataframe tbody tr th:only-of-type {\n",
       "        vertical-align: middle;\n",
       "    }\n",
       "\n",
       "    .dataframe tbody tr th {\n",
       "        vertical-align: top;\n",
       "    }\n",
       "\n",
       "    .dataframe thead th {\n",
       "        text-align: right;\n",
       "    }\n",
       "</style>\n",
       "<table border=\"1\" class=\"dataframe\">\n",
       "  <thead>\n",
       "    <tr style=\"text-align: right;\">\n",
       "      <th></th>\n",
       "      <th>answers</th>\n",
       "      <th>context</th>\n",
       "      <th>question</th>\n",
       "    </tr>\n",
       "  </thead>\n",
       "  <tbody>\n",
       "    <tr>\n",
       "      <th>0</th>\n",
       "      <td>{'answer_start': [0], 'text': ['kp. tanah ungk...</td>\n",
       "      <td>kp. tanah ungkuk rt.001 002 desa. sarimukti</td>\n",
       "      <td>apa gunanya minat?</td>\n",
       "    </tr>\n",
       "    <tr>\n",
       "      <th>1</th>\n",
       "      <td>{'answer_start': [0], 'text': ['aksa']}</td>\n",
       "      <td>aksa 57 sambongjaya</td>\n",
       "      <td>Siapa nama jalannya?</td>\n",
       "    </tr>\n",
       "    <tr>\n",
       "      <th>2</th>\n",
       "      <td>{'answer_start': [0], 'text': ['gg. 2']}</td>\n",
       "      <td>gg. 2 no 64 surodinawan prajurit kulon</td>\n",
       "      <td>Siapa nama jalannya?</td>\n",
       "    </tr>\n",
       "    <tr>\n",
       "      <th>3</th>\n",
       "      <td>{'answer_start': [0], 'text': ['damai putra de...</td>\n",
       "      <td>damai putra development, bamb sug mertoyudan</td>\n",
       "      <td>apa gunanya minat?</td>\n",
       "    </tr>\n",
       "    <tr>\n",
       "      <th>4</th>\n",
       "      <td>{'answer_start': [22], 'text': ['jalan wiroto ...</td>\n",
       "      <td>griya kos noor laily, jalan wiroto dalam ii, k...</td>\n",
       "      <td>Siapa nama jalannya?</td>\n",
       "    </tr>\n",
       "    <tr>\n",
       "      <th>5</th>\n",
       "      <td>{'answer_start': [9], 'text': ['jl. kali']}</td>\n",
       "      <td>pakunden jl. kali 5 sukorejo</td>\n",
       "      <td>Siapa nama jalannya?</td>\n",
       "    </tr>\n",
       "    <tr>\n",
       "      <th>6</th>\n",
       "      <td>{'answer_start': [0], 'text': ['vete']}</td>\n",
       "      <td>vete magelang magelang tengah</td>\n",
       "      <td>Siapa nama jalannya?</td>\n",
       "    </tr>\n",
       "    <tr>\n",
       "      <th>7</th>\n",
       "      <td>{'answer_start': [0], 'text': ['dewa anom']}</td>\n",
       "      <td>dewa anom 126 rendang rendang</td>\n",
       "      <td>Siapa nama jalannya?</td>\n",
       "    </tr>\n",
       "    <tr>\n",
       "      <th>8</th>\n",
       "      <td>{'answer_start': [0], 'text': ['kampung jogoy']}</td>\n",
       "      <td>kampung jogoy 555 55233 jetis</td>\n",
       "      <td>Siapa nama jalannya?</td>\n",
       "    </tr>\n",
       "    <tr>\n",
       "      <th>9</th>\n",
       "      <td>{'answer_start': [0], 'text': ['bant baru vii']}</td>\n",
       "      <td>bant baru vii</td>\n",
       "      <td>Siapa nama jalannya?</td>\n",
       "    </tr>\n",
       "  </tbody>\n",
       "</table>\n",
       "</div>"
      ],
      "text/plain": [
       "                                             answers  \\\n",
       "0  {'answer_start': [0], 'text': ['kp. tanah ungk...   \n",
       "1            {'answer_start': [0], 'text': ['aksa']}   \n",
       "2           {'answer_start': [0], 'text': ['gg. 2']}   \n",
       "3  {'answer_start': [0], 'text': ['damai putra de...   \n",
       "4  {'answer_start': [22], 'text': ['jalan wiroto ...   \n",
       "5        {'answer_start': [9], 'text': ['jl. kali']}   \n",
       "6            {'answer_start': [0], 'text': ['vete']}   \n",
       "7       {'answer_start': [0], 'text': ['dewa anom']}   \n",
       "8   {'answer_start': [0], 'text': ['kampung jogoy']}   \n",
       "9   {'answer_start': [0], 'text': ['bant baru vii']}   \n",
       "\n",
       "                                             context              question  \n",
       "0        kp. tanah ungkuk rt.001 002 desa. sarimukti    apa gunanya minat?  \n",
       "1                                aksa 57 sambongjaya  Siapa nama jalannya?  \n",
       "2             gg. 2 no 64 surodinawan prajurit kulon  Siapa nama jalannya?  \n",
       "3       damai putra development, bamb sug mertoyudan    apa gunanya minat?  \n",
       "4  griya kos noor laily, jalan wiroto dalam ii, k...  Siapa nama jalannya?  \n",
       "5                       pakunden jl. kali 5 sukorejo  Siapa nama jalannya?  \n",
       "6                      vete magelang magelang tengah  Siapa nama jalannya?  \n",
       "7                      dewa anom 126 rendang rendang  Siapa nama jalannya?  \n",
       "8                      kampung jogoy 555 55233 jetis  Siapa nama jalannya?  \n",
       "9                                      bant baru vii  Siapa nama jalannya?  "
      ]
     },
     "execution_count": 17,
     "metadata": {},
     "output_type": "execute_result"
    }
   ],
   "source": [
    "output_df = pd.concat([street_df,POI_df]).sample(frac = 1).reset_index(drop=True)\n",
    "output_df.head(10)"
   ]
  },
  {
   "cell_type": "markdown",
   "id": "d57ea9bf",
   "metadata": {},
   "source": [
    "## convert to huggingface Dataset"
   ]
  },
  {
   "cell_type": "code",
   "execution_count": 18,
   "id": "6a85ecbd",
   "metadata": {},
   "outputs": [],
   "source": [
    "from datasets import Dataset\n",
    "shopee_QA_Dataset = Dataset.from_pandas(output_df)"
   ]
  },
  {
   "cell_type": "code",
   "execution_count": 19,
   "id": "4ea1e3e7",
   "metadata": {},
   "outputs": [
    {
     "data": {
      "text/plain": [
       "DatasetDict({\n",
       "    train: Dataset({\n",
       "        features: ['answers', 'context', 'question'],\n",
       "        num_rows: 273429\n",
       "    })\n",
       "    test: Dataset({\n",
       "        features: ['answers', 'context', 'question'],\n",
       "        num_rows: 14392\n",
       "    })\n",
       "})"
      ]
     },
     "execution_count": 19,
     "metadata": {},
     "output_type": "execute_result"
    }
   ],
   "source": [
    "from datasets import DatasetDict\n",
    "shopee_QA_Dataset = shopee_QA_Dataset.train_test_split(test_size = 0.05)\n",
    "shopee_QA_Dataset"
   ]
  },
  {
   "cell_type": "markdown",
   "id": "fdc6b910",
   "metadata": {},
   "source": [
    "## Tokenize"
   ]
  },
  {
   "cell_type": "code",
   "execution_count": 21,
   "id": "0299f244",
   "metadata": {},
   "outputs": [],
   "source": [
    "model_checkpoint = \"cahya/bert-base-indonesian-tydiqa\""
   ]
  },
  {
   "cell_type": "code",
   "execution_count": 22,
   "id": "202c75ff",
   "metadata": {},
   "outputs": [],
   "source": [
    "# instantiate the tokenzier \n",
    "# note that different models require different tokenizers\n",
    "from transformers import AutoTokenizer\n",
    "tokenizer = AutoTokenizer.from_pretrained(model_checkpoint)"
   ]
  },
  {
   "cell_type": "code",
   "execution_count": 23,
   "id": "5e3304a2",
   "metadata": {},
   "outputs": [],
   "source": [
    "# check that the tokenizer we instantiated  is a fast tokenizer because we need its special features\n",
    "import transformers\n",
    "assert isinstance(tokenizer, transformers.PreTrainedTokenizerFast)"
   ]
  },
  {
   "cell_type": "code",
   "execution_count": 24,
   "id": "93c734b8",
   "metadata": {},
   "outputs": [],
   "source": [
    "def prepare_train_features(examples):\n",
    "    # Tokenize our examples with truncation and padding, but keep the overflows using a stride. This results\n",
    "    # in one example possible giving several features when a context is long, each of those features having a\n",
    "    # context that overlaps a bit the context of the previous feature.\n",
    "    pad_on_right = tokenizer.padding_side == \"right\"\n",
    "    tokenized_examples = tokenizer(\n",
    "        examples[\"question\" if pad_on_right else \"context\"],\n",
    "        examples[\"context\" if pad_on_right else \"question\"],\n",
    "        truncation=\"only_second\" if pad_on_right else \"only_first\",\n",
    "        max_length=max_length,\n",
    "        # stride=doc_stride,\n",
    "        return_overflowing_tokens=True,\n",
    "        return_offsets_mapping=True,\n",
    "        padding=\"max_length\",                                                                                    \n",
    "    )\n",
    "\n",
    "    # Since one example might give us several features if it has a long context, we need a map from a feature to\n",
    "    # its corresponding example. This key gives us just that.\n",
    "    sample_mapping = tokenized_examples.pop(\"overflow_to_sample_mapping\")\n",
    "    # The offset mappings will give us a map from token to character position in the original context. This will\n",
    "    # help us compute the start_positions and end_positions.\n",
    "    offset_mapping = tokenized_examples.pop(\"offset_mapping\")\n",
    "\n",
    "    # Let's label those examples!\n",
    "    tokenized_examples[\"start_positions\"] = []\n",
    "    tokenized_examples[\"end_positions\"] = []\n",
    "\n",
    "    for i, offsets in enumerate(offset_mapping):\n",
    "        # We will label impossible answers with the index of the CLS token.\n",
    "        input_ids = tokenized_examples[\"input_ids\"][i]\n",
    "        cls_index = input_ids.index(tokenizer.cls_token_id)\n",
    "\n",
    "        # Grab the sequence corresponding to that example (to know what is the context and what is the question).\n",
    "        sequence_ids = tokenized_examples.sequence_ids(i)\n",
    "\n",
    "        # One example can give several spans, this is the index of the example containing this span of text.\n",
    "        sample_index = sample_mapping[i]\n",
    "        answers = examples[\"answers\"][sample_index]\n",
    "        # If no answers are given, set the cls_index as answer.\n",
    "        if len(answers[\"answer_start\"]) == 0:\n",
    "            tokenized_examples[\"start_positions\"].append(cls_index)\n",
    "            tokenized_examples[\"end_positions\"].append(cls_index)\n",
    "        else:\n",
    "            # Start/end character index of the answer in the text.\n",
    "            start_char = answers[\"answer_start\"][0]\n",
    "            end_char = start_char + len(answers[\"text\"][0])\n",
    "\n",
    "            # Start token index of the current span in the text.\n",
    "            token_start_index = 0\n",
    "            while sequence_ids[token_start_index] != (1 if pad_on_right else 0):\n",
    "                token_start_index += 1\n",
    "\n",
    "            # End token index of the current span in the text.\n",
    "            token_end_index = len(input_ids) - 1\n",
    "            while sequence_ids[token_end_index] != (1 if pad_on_right else 0):\n",
    "                token_end_index -= 1\n",
    "\n",
    "            # Detect if the answer is out of the span (in which case this feature is labeled with the CLS index).\n",
    "            if not (offsets[token_start_index][0] <= start_char and offsets[token_end_index][1] >= end_char):\n",
    "                tokenized_examples[\"start_positions\"].append(cls_index)\n",
    "                tokenized_examples[\"end_positions\"].append(cls_index)\n",
    "            else:\n",
    "                # Otherwise move the token_start_index and token_end_index to the two ends of the answer.\n",
    "                # Note: we could go after the last offset if the answer is the last word (edge case).\n",
    "                while token_start_index < len(offsets) and offsets[token_start_index][0] <= start_char:\n",
    "                    token_start_index += 1\n",
    "                tokenized_examples[\"start_positions\"].append(token_start_index - 1)\n",
    "                while offsets[token_end_index][1] >= end_char:\n",
    "                    token_end_index -= 1\n",
    "                tokenized_examples[\"end_positions\"].append(token_end_index + 1)\n",
    "\n",
    "    return tokenized_examples"
   ]
  },
  {
   "cell_type": "code",
   "execution_count": 25,
   "id": "d09617fa",
   "metadata": {},
   "outputs": [
    {
     "data": {
      "application/vnd.jupyter.widget-view+json": {
       "model_id": "966ec9c1db5649d7a68ebed423eeffbd",
       "version_major": 2,
       "version_minor": 0
      },
      "text/plain": [
       "HBox(children=(FloatProgress(value=0.0, max=274.0), HTML(value='')))"
      ]
     },
     "metadata": {},
     "output_type": "display_data"
    },
    {
     "name": "stdout",
     "output_type": "stream",
     "text": [
      "\n"
     ]
    },
    {
     "data": {
      "application/vnd.jupyter.widget-view+json": {
       "model_id": "66e20c5d4eff44c9b0df007019cf6244",
       "version_major": 2,
       "version_minor": 0
      },
      "text/plain": [
       "HBox(children=(FloatProgress(value=0.0, max=15.0), HTML(value='')))"
      ]
     },
     "metadata": {},
     "output_type": "display_data"
    },
    {
     "name": "stdout",
     "output_type": "stream",
     "text": [
      "\n"
     ]
    },
    {
     "data": {
      "text/plain": [
       "DatasetDict({\n",
       "    train: Dataset({\n",
       "        features: ['attention_mask', 'end_positions', 'input_ids', 'start_positions', 'token_type_ids'],\n",
       "        num_rows: 273429\n",
       "    })\n",
       "    test: Dataset({\n",
       "        features: ['attention_mask', 'end_positions', 'input_ids', 'start_positions', 'token_type_ids'],\n",
       "        num_rows: 14392\n",
       "    })\n",
       "})"
      ]
     },
     "execution_count": 25,
     "metadata": {},
     "output_type": "execute_result"
    }
   ],
   "source": [
    "# more samples have been produced due the the splitting function\n",
    "# transformers uses smart caching - the following code needs to be run only once as subsequent runs uses cached data\n",
    "tokenized_datasets = shopee_QA_Dataset.map(prepare_train_features, batched=True, remove_columns=shopee_QA_Dataset[\"train\"].column_names)\n",
    "tokenized_datasets"
   ]
  },
  {
   "cell_type": "code",
   "execution_count": 26,
   "id": "1bf64348",
   "metadata": {},
   "outputs": [],
   "source": [
    "from datasets import ClassLabel, Sequence\n",
    "import random\n",
    "import pandas as pd\n",
    "from IPython.display import display, HTML\n",
    "def show_random_elements(dataset, num_examples = 10):\n",
    "    assert num_examples <= len(dataset), \"Can't pick more elements than there are in the dataset.\"\n",
    "    picks = []\n",
    "    for _ in range(num_examples):\n",
    "        pick = random.randint(0, len(dataset)-1)\n",
    "        while pick in picks:\n",
    "            pick = random.randint(0, len(dataset)-1)\n",
    "        picks.append(pick)\n",
    "    \n",
    "    df = pd.DataFrame(dataset[picks])\n",
    "    for column, typ in dataset.features.items():\n",
    "        if isinstance(typ, ClassLabel):\n",
    "            df[column] = df[column].transform(lambda i: typ.names[i])\n",
    "        elif isinstance(typ, Sequence) and isinstance(typ.feature, ClassLabel):\n",
    "            df[column] = df[column].transform(lambda x: [typ.feature.names[i] for i in x])\n",
    "    display(HTML(df.to_html()))"
   ]
  },
  {
   "cell_type": "code",
   "execution_count": 27,
   "id": "78822ce5",
   "metadata": {
    "scrolled": true
   },
   "outputs": [
    {
     "data": {
      "text/html": [
       "<table border=\"1\" class=\"dataframe\">\n",
       "  <thead>\n",
       "    <tr style=\"text-align: right;\">\n",
       "      <th></th>\n",
       "      <th>attention_mask</th>\n",
       "      <th>end_positions</th>\n",
       "      <th>input_ids</th>\n",
       "      <th>start_positions</th>\n",
       "      <th>token_type_ids</th>\n",
       "    </tr>\n",
       "  </thead>\n",
       "  <tbody>\n",
       "    <tr>\n",
       "      <th>0</th>\n",
       "      <td>[1, 1, 1, 1, 1, 1, 1, 1, 1, 1, 1, 1, 1, 1, 1, 1, 1, 1, 1, 1, 1, 1, 1, 1, 1, 1, 1, 1, 1, 1, 0, 0, 0, 0, 0, 0, 0, 0, 0, 0, 0, 0, 0, 0, 0, 0, 0, 0, 0, 0]</td>\n",
       "      <td>26</td>\n",
       "      <td>[3, 6186, 1769, 15324, 32, 1, 2177, 9207, 15299, 4947, 1501, 11532, 2978, 1630, 16, 6812, 12018, 10079, 8692, 13371, 2845, 40, 1050, 22674, 17, 4053, 1008, 4462, 1635, 1, 2, 2, 2, 2, 2, 2, 2, 2, 2, 2, 2, 2, 2, 2, 2, 2, 2, 2, 2, 2]</td>\n",
       "      <td>23</td>\n",
       "      <td>[0, 0, 0, 0, 0, 0, 1, 1, 1, 1, 1, 1, 1, 1, 1, 1, 1, 1, 1, 1, 1, 1, 1, 1, 1, 1, 1, 1, 1, 1, 0, 0, 0, 0, 0, 0, 0, 0, 0, 0, 0, 0, 0, 0, 0, 0, 0, 0, 0, 0]</td>\n",
       "    </tr>\n",
       "    <tr>\n",
       "      <th>1</th>\n",
       "      <td>[1, 1, 1, 1, 1, 1, 1, 1, 1, 1, 1, 1, 1, 1, 1, 1, 0, 0, 0, 0, 0, 0, 0, 0, 0, 0, 0, 0, 0, 0, 0, 0, 0, 0, 0, 0, 0, 0, 0, 0, 0, 0, 0, 0, 0, 0, 0, 0, 0, 0]</td>\n",
       "      <td>11</td>\n",
       "      <td>[3, 6186, 1769, 15324, 32, 1, 6318, 1661, 26589, 2980, 12898, 21, 6253, 10413, 2102, 1, 2, 2, 2, 2, 2, 2, 2, 2, 2, 2, 2, 2, 2, 2, 2, 2, 2, 2, 2, 2, 2, 2, 2, 2, 2, 2, 2, 2, 2, 2, 2, 2, 2, 2]</td>\n",
       "      <td>6</td>\n",
       "      <td>[0, 0, 0, 0, 0, 0, 1, 1, 1, 1, 1, 1, 1, 1, 1, 1, 0, 0, 0, 0, 0, 0, 0, 0, 0, 0, 0, 0, 0, 0, 0, 0, 0, 0, 0, 0, 0, 0, 0, 0, 0, 0, 0, 0, 0, 0, 0, 0, 0, 0]</td>\n",
       "    </tr>\n",
       "    <tr>\n",
       "      <th>2</th>\n",
       "      <td>[1, 1, 1, 1, 1, 1, 1, 1, 1, 1, 1, 1, 1, 1, 1, 1, 0, 0, 0, 0, 0, 0, 0, 0, 0, 0, 0, 0, 0, 0, 0, 0, 0, 0, 0, 0, 0, 0, 0, 0, 0, 0, 0, 0, 0, 0, 0, 0, 0, 0]</td>\n",
       "      <td>9</td>\n",
       "      <td>[3, 3397, 6834, 1538, 9118, 32, 1, 7732, 1697, 5282, 15, 3823, 1007, 15456, 9807, 1, 2, 2, 2, 2, 2, 2, 2, 2, 2, 2, 2, 2, 2, 2, 2, 2, 2, 2, 2, 2, 2, 2, 2, 2, 2, 2, 2, 2, 2, 2, 2, 2, 2, 2]</td>\n",
       "      <td>7</td>\n",
       "      <td>[0, 0, 0, 0, 0, 0, 0, 1, 1, 1, 1, 1, 1, 1, 1, 1, 0, 0, 0, 0, 0, 0, 0, 0, 0, 0, 0, 0, 0, 0, 0, 0, 0, 0, 0, 0, 0, 0, 0, 0, 0, 0, 0, 0, 0, 0, 0, 0, 0, 0]</td>\n",
       "    </tr>\n",
       "    <tr>\n",
       "      <th>3</th>\n",
       "      <td>[1, 1, 1, 1, 1, 1, 1, 1, 1, 1, 1, 1, 1, 1, 1, 1, 1, 1, 1, 1, 1, 1, 0, 0, 0, 0, 0, 0, 0, 0, 0, 0, 0, 0, 0, 0, 0, 0, 0, 0, 0, 0, 0, 0, 0, 0, 0, 0, 0, 0]</td>\n",
       "      <td>16</td>\n",
       "      <td>[3, 3397, 6834, 1538, 9118, 32, 1, 31057, 1538, 13791, 1544, 14795, 12186, 15, 8010, 8640, 9040, 15, 7448, 5596, 1028, 1, 2, 2, 2, 2, 2, 2, 2, 2, 2, 2, 2, 2, 2, 2, 2, 2, 2, 2, 2, 2, 2, 2, 2, 2, 2, 2, 2, 2]</td>\n",
       "      <td>14</td>\n",
       "      <td>[0, 0, 0, 0, 0, 0, 0, 1, 1, 1, 1, 1, 1, 1, 1, 1, 1, 1, 1, 1, 1, 1, 0, 0, 0, 0, 0, 0, 0, 0, 0, 0, 0, 0, 0, 0, 0, 0, 0, 0, 0, 0, 0, 0, 0, 0, 0, 0, 0, 0]</td>\n",
       "    </tr>\n",
       "    <tr>\n",
       "      <th>4</th>\n",
       "      <td>[1, 1, 1, 1, 1, 1, 1, 1, 1, 1, 1, 1, 1, 1, 1, 1, 1, 1, 1, 1, 1, 0, 0, 0, 0, 0, 0, 0, 0, 0, 0, 0, 0, 0, 0, 0, 0, 0, 0, 0, 0, 0, 0, 0, 0, 0, 0, 0, 0, 0]</td>\n",
       "      <td>12</td>\n",
       "      <td>[3, 6186, 1769, 15324, 32, 1, 3411, 63, 26505, 10132, 9790, 15, 28259, 15, 6506, 11511, 1066, 4219, 10795, 1010, 1, 2, 2, 2, 2, 2, 2, 2, 2, 2, 2, 2, 2, 2, 2, 2, 2, 2, 2, 2, 2, 2, 2, 2, 2, 2, 2, 2, 2, 2]</td>\n",
       "      <td>12</td>\n",
       "      <td>[0, 0, 0, 0, 0, 0, 1, 1, 1, 1, 1, 1, 1, 1, 1, 1, 1, 1, 1, 1, 1, 0, 0, 0, 0, 0, 0, 0, 0, 0, 0, 0, 0, 0, 0, 0, 0, 0, 0, 0, 0, 0, 0, 0, 0, 0, 0, 0, 0, 0]</td>\n",
       "    </tr>\n",
       "    <tr>\n",
       "      <th>5</th>\n",
       "      <td>[1, 1, 1, 1, 1, 1, 1, 1, 1, 1, 1, 1, 1, 1, 0, 0, 0, 0, 0, 0, 0, 0, 0, 0, 0, 0, 0, 0, 0, 0, 0, 0, 0, 0, 0, 0, 0, 0, 0, 0, 0, 0, 0, 0, 0, 0, 0, 0, 0, 0]</td>\n",
       "      <td>8</td>\n",
       "      <td>[3, 6186, 1769, 15324, 32, 1, 5536, 1029, 7207, 6518, 8059, 6518, 8059, 1, 2, 2, 2, 2, 2, 2, 2, 2, 2, 2, 2, 2, 2, 2, 2, 2, 2, 2, 2, 2, 2, 2, 2, 2, 2, 2, 2, 2, 2, 2, 2, 2, 2, 2, 2, 2]</td>\n",
       "      <td>6</td>\n",
       "      <td>[0, 0, 0, 0, 0, 0, 1, 1, 1, 1, 1, 1, 1, 1, 0, 0, 0, 0, 0, 0, 0, 0, 0, 0, 0, 0, 0, 0, 0, 0, 0, 0, 0, 0, 0, 0, 0, 0, 0, 0, 0, 0, 0, 0, 0, 0, 0, 0, 0, 0]</td>\n",
       "    </tr>\n",
       "    <tr>\n",
       "      <th>6</th>\n",
       "      <td>[1, 1, 1, 1, 1, 1, 1, 1, 1, 1, 1, 1, 1, 1, 1, 0, 0, 0, 0, 0, 0, 0, 0, 0, 0, 0, 0, 0, 0, 0, 0, 0, 0, 0, 0, 0, 0, 0, 0, 0, 0, 0, 0, 0, 0, 0, 0, 0, 0, 0]</td>\n",
       "      <td>12</td>\n",
       "      <td>[3, 3397, 6834, 1538, 9118, 32, 1, 1849, 4934, 15, 18585, 3980, 1015, 15, 1, 2, 2, 2, 2, 2, 2, 2, 2, 2, 2, 2, 2, 2, 2, 2, 2, 2, 2, 2, 2, 2, 2, 2, 2, 2, 2, 2, 2, 2, 2, 2, 2, 2, 2, 2]</td>\n",
       "      <td>10</td>\n",
       "      <td>[0, 0, 0, 0, 0, 0, 0, 1, 1, 1, 1, 1, 1, 1, 1, 0, 0, 0, 0, 0, 0, 0, 0, 0, 0, 0, 0, 0, 0, 0, 0, 0, 0, 0, 0, 0, 0, 0, 0, 0, 0, 0, 0, 0, 0, 0, 0, 0, 0, 0]</td>\n",
       "    </tr>\n",
       "    <tr>\n",
       "      <th>7</th>\n",
       "      <td>[1, 1, 1, 1, 1, 1, 1, 1, 1, 1, 1, 1, 1, 0, 0, 0, 0, 0, 0, 0, 0, 0, 0, 0, 0, 0, 0, 0, 0, 0, 0, 0, 0, 0, 0, 0, 0, 0, 0, 0, 0, 0, 0, 0, 0, 0, 0, 0, 0, 0]</td>\n",
       "      <td>7</td>\n",
       "      <td>[3, 6186, 1769, 15324, 32, 1, 9671, 9887, 15, 4462, 14878, 5679, 1, 2, 2, 2, 2, 2, 2, 2, 2, 2, 2, 2, 2, 2, 2, 2, 2, 2, 2, 2, 2, 2, 2, 2, 2, 2, 2, 2, 2, 2, 2, 2, 2, 2, 2, 2, 2, 2]</td>\n",
       "      <td>6</td>\n",
       "      <td>[0, 0, 0, 0, 0, 0, 1, 1, 1, 1, 1, 1, 1, 0, 0, 0, 0, 0, 0, 0, 0, 0, 0, 0, 0, 0, 0, 0, 0, 0, 0, 0, 0, 0, 0, 0, 0, 0, 0, 0, 0, 0, 0, 0, 0, 0, 0, 0, 0, 0]</td>\n",
       "    </tr>\n",
       "    <tr>\n",
       "      <th>8</th>\n",
       "      <td>[1, 1, 1, 1, 1, 1, 1, 1, 1, 1, 1, 1, 1, 1, 1, 0, 0, 0, 0, 0, 0, 0, 0, 0, 0, 0, 0, 0, 0, 0, 0, 0, 0, 0, 0, 0, 0, 0, 0, 0, 0, 0, 0, 0, 0, 0, 0, 0, 0, 0]</td>\n",
       "      <td>7</td>\n",
       "      <td>[3, 6186, 1769, 15324, 32, 1, 28002, 10729, 2321, 20565, 14391, 10745, 1608, 28012, 1, 2, 2, 2, 2, 2, 2, 2, 2, 2, 2, 2, 2, 2, 2, 2, 2, 2, 2, 2, 2, 2, 2, 2, 2, 2, 2, 2, 2, 2, 2, 2, 2, 2, 2, 2]</td>\n",
       "      <td>6</td>\n",
       "      <td>[0, 0, 0, 0, 0, 0, 1, 1, 1, 1, 1, 1, 1, 1, 1, 0, 0, 0, 0, 0, 0, 0, 0, 0, 0, 0, 0, 0, 0, 0, 0, 0, 0, 0, 0, 0, 0, 0, 0, 0, 0, 0, 0, 0, 0, 0, 0, 0, 0, 0]</td>\n",
       "    </tr>\n",
       "    <tr>\n",
       "      <th>9</th>\n",
       "      <td>[1, 1, 1, 1, 1, 1, 1, 1, 1, 1, 1, 1, 1, 1, 1, 1, 1, 1, 1, 1, 0, 0, 0, 0, 0, 0, 0, 0, 0, 0, 0, 0, 0, 0, 0, 0, 0, 0, 0, 0, 0, 0, 0, 0, 0, 0, 0, 0, 0, 0]</td>\n",
       "      <td>8</td>\n",
       "      <td>[3, 6186, 1769, 15324, 32, 1, 31815, 22, 21, 15, 20, 6181, 27, 24, 19745, 1488, 2070, 1661, 17, 1, 2, 2, 2, 2, 2, 2, 2, 2, 2, 2, 2, 2, 2, 2, 2, 2, 2, 2, 2, 2, 2, 2, 2, 2, 2, 2, 2, 2, 2, 2]</td>\n",
       "      <td>6</td>\n",
       "      <td>[0, 0, 0, 0, 0, 0, 1, 1, 1, 1, 1, 1, 1, 1, 1, 1, 1, 1, 1, 1, 0, 0, 0, 0, 0, 0, 0, 0, 0, 0, 0, 0, 0, 0, 0, 0, 0, 0, 0, 0, 0, 0, 0, 0, 0, 0, 0, 0, 0, 0]</td>\n",
       "    </tr>\n",
       "  </tbody>\n",
       "</table>"
      ],
      "text/plain": [
       "<IPython.core.display.HTML object>"
      ]
     },
     "metadata": {},
     "output_type": "display_data"
    }
   ],
   "source": [
    "show_random_elements(tokenized_datasets['train'])"
   ]
  },
  {
   "cell_type": "markdown",
   "id": "53ae450b",
   "metadata": {},
   "source": [
    "## export"
   ]
  },
  {
   "cell_type": "code",
   "execution_count": 28,
   "id": "c1924cc4",
   "metadata": {},
   "outputs": [],
   "source": [
    "tokenized_datasets.save_to_disk(r\"C:\\Users\\tanch\\Documents\\Coding Competitions\\Shopee\\Shopee Address Elements Extraction (local)\\datasets\\shopee QA dataset\")"
   ]
  },
  {
   "cell_type": "code",
   "execution_count": null,
   "id": "ab3583c3",
   "metadata": {},
   "outputs": [],
   "source": []
  }
 ],
 "metadata": {
  "kernelspec": {
   "display_name": "Python 3",
   "language": "python",
   "name": "python3"
  },
  "language_info": {
   "codemirror_mode": {
    "name": "ipython",
    "version": 3
   },
   "file_extension": ".py",
   "mimetype": "text/x-python",
   "name": "python",
   "nbconvert_exporter": "python",
   "pygments_lexer": "ipython3",
   "version": "3.8.3"
  }
 },
 "nbformat": 4,
 "nbformat_minor": 5
}
